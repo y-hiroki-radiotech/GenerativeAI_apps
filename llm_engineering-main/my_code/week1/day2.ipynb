{
 "cells": [
  {
   "cell_type": "code",
   "execution_count": 1,
   "metadata": {},
   "outputs": [],
   "source": [
    "import requests\n",
    "from bs4 import BeautifulSoup\n",
    "from IPython.display import Markdown, display"
   ]
  },
  {
   "cell_type": "code",
   "execution_count": 6,
   "metadata": {},
   "outputs": [],
   "source": [
    "OLLAMA_API = \"http://localhost:11434/api/chat\"\n",
    "HEADERS = {\"Content-Type\": \"application/json\"}\n",
    "MODEL = \"llama3.2\""
   ]
  },
  {
   "cell_type": "code",
   "execution_count": 3,
   "metadata": {},
   "outputs": [],
   "source": [
    "# Create a messages list using the same format that we used for OpenAI\n",
    "messages = [\n",
    "    {\"role\": \"user\",\n",
    "     \"content\": \"Describe some of the business applications of Generative AI\"}\n",
    "]"
   ]
  },
  {
   "cell_type": "code",
   "execution_count": 4,
   "metadata": {},
   "outputs": [],
   "source": [
    "payload = {\n",
    "    \"model\": MODEL,\n",
    "    \"messages\": messages,\n",
    "    \"stream\": False\n",
    "}"
   ]
  },
  {
   "cell_type": "code",
   "execution_count": 5,
   "metadata": {},
   "outputs": [
    {
     "name": "stdout",
     "output_type": "stream",
     "text": [
      "\u001b[?25lpulling manifest ⠋ \u001b[?25h\u001b[?25l\u001b[2K\u001b[1Gpulling manifest ⠙ \u001b[?25h\u001b[?25l\u001b[2K\u001b[1Gpulling manifest ⠹ \u001b[?25h\u001b[?25l\u001b[2K\u001b[1Gpulling manifest ⠸ \u001b[?25h\u001b[?25l\u001b[2K\u001b[1Gpulling manifest ⠼ \u001b[?25h\u001b[?25l\u001b[2K\u001b[1Gpulling manifest ⠴ \u001b[?25h\u001b[?25l\u001b[2K\u001b[1Gpulling manifest ⠦ \u001b[?25h\u001b[?25l\u001b[2K\u001b[1Gpulling manifest ⠧ \u001b[?25h\u001b[?25l\u001b[2K\u001b[1Gpulling manifest ⠇ \u001b[?25h\u001b[?25l\u001b[2K\u001b[1Gpulling manifest ⠏ \u001b[?25h\u001b[?25l\u001b[2K\u001b[1Gpulling manifest ⠋ \u001b[?25h\u001b[?25l\u001b[2K\u001b[1Gpulling manifest ⠙ \u001b[?25h\u001b[?25l\u001b[2K\u001b[1Gpulling manifest ⠹ \u001b[?25h\u001b[?25l\u001b[2K\u001b[1Gpulling manifest \n",
      "pulling dde5aa3fc5ff... 100% ▕████████████████▏ 2.0 GB                         \n",
      "pulling 966de95ca8a6... 100% ▕████████████████▏ 1.4 KB                         \n",
      "pulling fcc5a6bec9da... 100% ▕████████████████▏ 7.7 KB                         \n",
      "pulling a70ff7e570d9... 100% ▕████████████████▏ 6.0 KB                         \n",
      "pulling 56bb8bd477a5... 100% ▕████████████████▏   96 B                         \n",
      "pulling 34bb5ab01051... 100% ▕████████████████▏  561 B                         \n",
      "verifying sha256 digest \n",
      "writing manifest \n",
      "success \u001b[?25h\n"
     ]
    }
   ],
   "source": [
    "!ollama pull llama3.2"
   ]
  },
  {
   "cell_type": "code",
   "execution_count": 7,
   "metadata": {},
   "outputs": [
    {
     "name": "stdout",
     "output_type": "stream",
     "text": [
      "Generative Artificial Intelligence (AI) has numerous business applications across various industries, including:\n",
      "\n",
      "1. **Content Creation**: Generative AI can be used to create high-quality content such as images, videos, and text, reducing the need for human writers and editors.\n",
      "2. **Product Design**: Generative AI can help design new product prototypes, improve existing designs, and optimize product features through machine learning algorithms.\n",
      "3. **Marketing and Advertising**: Generative AI can be used to create personalized ads, generate social media content, and predict customer behavior.\n",
      "4. **Customer Service**: Generative AI-powered chatbots can provide 24/7 customer support, answering common queries and helping customers resolve issues.\n",
      "5. **Data Analysis**: Generative AI can analyze large datasets to identify patterns, trends, and insights that may not be visible to human analysts.\n",
      "6. **Supply Chain Optimization**: Generative AI can help optimize supply chain operations by predicting demand, managing inventory levels, and identifying bottlenecks.\n",
      "7. **Financial Modeling**: Generative AI can create financial models, forecast revenue, and predict stock prices.\n",
      "8. **Cybersecurity**: Generative AI can be used to detect and respond to cyber threats in real-time, reducing the risk of data breaches and other security incidents.\n",
      "9. **Healthcare**: Generative AI can help analyze medical images, diagnose diseases, and develop personalized treatment plans.\n",
      "10. **Education**: Generative AI can create personalized learning experiences for students, providing tailored content and recommendations.\n",
      "\n",
      "Some specific examples of business applications of Generative AI include:\n",
      "\n",
      "* **Chatbots**: Companies like Microsoft, Amazon, and IBM are using generative AI to power their chatbots, which provide customer support and help with transactions.\n",
      "* **Product Recommendation Systems**: Retailers like Amazon and Walmart use generative AI to recommend products to customers based on their browsing and purchasing history.\n",
      "* **Image Generation**: Generative AI is being used by companies like Google, Facebook, and Adobe to create realistic images of products, people, and environments for marketing and advertising purposes.\n",
      "* **Predictive Maintenance**: Generative AI is being used by manufacturers like GE and Siemens to predict equipment failures and schedule maintenance, reducing downtime and increasing productivity.\n",
      "\n",
      "These are just a few examples of the many business applications of Generative AI. As the technology continues to evolve, we can expect to see even more innovative uses in various industries.\n"
     ]
    }
   ],
   "source": [
    "response = requests.post(OLLAMA_API, json=payload, headers=HEADERS)\n",
    "print(response.json()[\"message\"][\"content\"])"
   ]
  },
  {
   "cell_type": "code",
   "execution_count": 8,
   "metadata": {},
   "outputs": [
    {
     "name": "stdout",
     "output_type": "stream",
     "text": [
      "Generative AI has numerous business applications across various industries, including:\n",
      "\n",
      "1. **Content Generation**: Generate high-quality content such as blog posts, social media posts, product descriptions, and more with minimal human intervention.\n",
      "2. **Product Design**: Use generative design to create new product designs, prototypes, and visualizations, reducing the need for manual drafting and iteration.\n",
      "3. **Marketing Automation**: Automate marketing campaigns by generating personalized messages, emails, and ad content using AI-generated text and images.\n",
      "4. **Sales Enablement**: Create personalized sales content, such as pitch decks, case studies, and presentations, to help sales teams close more deals.\n",
      "5. **Customer Service Chatbots**: Develop chatbots that can generate responses to customer inquiries, providing 24/7 support and improving response times.\n",
      "6. **Data Analysis and Insights**: Use generative models to analyze large datasets, identify patterns, and generate insights for business decision-making.\n",
      "7. **Predictive Maintenance**: Generate predictive maintenance schedules and alerts using machine learning algorithms and sensor data from IoT devices.\n",
      "8. **Digital Twin**: Create digital replicas of physical assets, such as buildings or machines, to simulate performance, predict maintenance needs, and optimize operations.\n",
      "9. **Music and Audio Generation**: Use generative models to create music, audio effects, and voiceovers for videos, podcasts, and more.\n",
      "10. **Fashion Design**: Generate fashion designs, including clothing patterns, textures, and accessories, using AI-powered design tools.\n",
      "\n",
      "Some specific business applications of Generative AI include:\n",
      "\n",
      "1. **Netflix's Content Recommendation**: Netflix uses generative models to recommend TV shows and movies based on user behavior and preferences.\n",
      "2. **Amazon's Product Recommendations**: Amazon employs generative models to suggest products to customers based on their browsing history and purchase data.\n",
      "3. **Salesforce's Customer Service Chatbots**: Salesforce uses generative chatbots to provide 24/7 customer support and improve response times.\n",
      "4. **Dior's Fashion Design**: Dior uses generative AI to design new fashion collections, including clothing patterns, textures, and accessories.\n",
      "\n",
      "These are just a few examples of the many business applications of Generative AI. As the technology continues to evolve, we can expect to see even more innovative use cases across various industries.\n"
     ]
    }
   ],
   "source": [
    "import ollama\n",
    "\n",
    "response = ollama.chat(model=MODEL, messages=messages)\n",
    "print(response[\"message\"][\"content\"])"
   ]
  },
  {
   "cell_type": "markdown",
   "metadata": {},
   "source": [
    "### Exercise"
   ]
  },
  {
   "cell_type": "code",
   "execution_count": 11,
   "metadata": {},
   "outputs": [],
   "source": [
    "headers = {\n",
    " \"User-Agent\": \"Mozilla/5.0 (Windows NT 10.0; Win64; x64) AppleWebKit/537.36 (KHTML, like Gecko) Chrome/117.0.0.0 Safari/537.36\"\n",
    "}\n",
    "\n",
    "class Website:\n",
    "    def __init__(self, url):\n",
    "        \"Create this Website object from the given url using the BeautifulSoup library.\"\n",
    "        self.url = url\n",
    "        response = requests.get(url, headers=headers)\n",
    "        soup = BeautifulSoup(response.content, \"html.parser\")\n",
    "        self.title = soup.title.string if soup.title else \"No title found\"\n",
    "        for irrelevant in soup.body([\"script\", \"style\", \"img\", \"input\"]):\n",
    "            irrelevant.decompose()\n",
    "        self.text = soup.body.get_text(separator=\"\\n\", strip=True)"
   ]
  },
  {
   "cell_type": "code",
   "execution_count": 12,
   "metadata": {},
   "outputs": [
    {
     "name": "stdout",
     "output_type": "stream",
     "text": [
      "Home - Edward Donner\n",
      "Home\n",
      "Outsmart\n",
      "An arena that pits LLMs against each other in a battle of diplomacy and deviousness\n",
      "About\n",
      "Posts\n",
      "Well, hi there.\n",
      "I’m Ed. I like writing code and experimenting with LLMs, and hopefully you’re here because you do too. I also enjoy DJing (but I’m badly out of practice), amateur electronic music production (\n",
      "very\n",
      "amateur) and losing myself in\n",
      "Hacker News\n",
      ", nodding my head sagely to things I only half understand.\n",
      "I’m the co-founder and CTO of\n",
      "Nebula.io\n",
      ". We’re applying AI to a field where it can make a massive, positive impact: helping people discover their potential and pursue their reason for being. Recruiters use our product today to source, understand, engage and manage talent. I’m previously the founder and CEO of AI startup untapt,\n",
      "acquired in 2021\n",
      ".\n",
      "We work with groundbreaking, proprietary LLMs verticalized for talent, we’ve\n",
      "patented\n",
      "our matching model, and our award-winning platform has happy customers and tons of press coverage.\n",
      "Connect\n",
      "with me for more!\n",
      "December 21, 2024\n",
      "Welcome, SuperDataScientists!\n",
      "November 13, 2024\n",
      "Mastering AI and LLM Engineering – Resources\n",
      "October 16, 2024\n",
      "From Software Engineer to AI Data Scientist – resources\n",
      "August 6, 2024\n",
      "Outsmart LLM Arena – a battle of diplomacy and deviousness\n",
      "Navigation\n",
      "Home\n",
      "Outsmart\n",
      "An arena that pits LLMs against each other in a battle of diplomacy and deviousness\n",
      "About\n",
      "Posts\n",
      "Get in touch\n",
      "ed [at] edwarddonner [dot] com\n",
      "www.edwarddonner.com\n",
      "Follow me\n",
      "LinkedIn\n",
      "Twitter\n",
      "Facebook\n",
      "Subscribe to newsletter\n",
      "Type your email…\n",
      "Subscribe\n"
     ]
    }
   ],
   "source": [
    "ed = Website(\"https://edwarddonner.com\")\n",
    "print(ed.title)\n",
    "print(ed.text)"
   ]
  },
  {
   "cell_type": "code",
   "execution_count": 13,
   "metadata": {},
   "outputs": [],
   "source": [
    "system_prompt = \"You are an assistant that analyzes the contents of a website \\\n",
    "and provides a short summary, ignoring text that might be navigation related. \\\n",
    "Respond in markdown and in Japanese.\""
   ]
  },
  {
   "cell_type": "code",
   "execution_count": 14,
   "metadata": {},
   "outputs": [],
   "source": [
    "def user_prompt_for(website):\n",
    "    user_prompt = f\"You are looking at a website titled: {website.title}\"\n",
    "    user_prompt += \"\\nThe contents of this website is as follows; \\\n",
    "please provide a short summary of this website in markdown and in Japanese. \\\n",
    "If it includes news or announcements, then summarize these too.\\n\\n\"\n",
    "    user_prompt += website.text\n",
    "    return user_prompt"
   ]
  },
  {
   "cell_type": "code",
   "execution_count": 15,
   "metadata": {},
   "outputs": [
    {
     "name": "stdout",
     "output_type": "stream",
     "text": [
      "You are looking at a website titled: Home - Edward Donner\n",
      "The contents of this website is as follows; please provide a short summary of this website in markdown and in Japanese. If it includes news or announcements, then summarize these too.\n",
      "\n",
      "Home\n",
      "Outsmart\n",
      "An arena that pits LLMs against each other in a battle of diplomacy and deviousness\n",
      "About\n",
      "Posts\n",
      "Well, hi there.\n",
      "I’m Ed. I like writing code and experimenting with LLMs, and hopefully you’re here because you do too. I also enjoy DJing (but I’m badly out of practice), amateur electronic music production (\n",
      "very\n",
      "amateur) and losing myself in\n",
      "Hacker News\n",
      ", nodding my head sagely to things I only half understand.\n",
      "I’m the co-founder and CTO of\n",
      "Nebula.io\n",
      ". We’re applying AI to a field where it can make a massive, positive impact: helping people discover their potential and pursue their reason for being. Recruiters use our product today to source, understand, engage and manage talent. I’m previously the founder and CEO of AI startup untapt,\n",
      "acquired in 2021\n",
      ".\n",
      "We work with groundbreaking, proprietary LLMs verticalized for talent, we’ve\n",
      "patented\n",
      "our matching model, and our award-winning platform has happy customers and tons of press coverage.\n",
      "Connect\n",
      "with me for more!\n",
      "December 21, 2024\n",
      "Welcome, SuperDataScientists!\n",
      "November 13, 2024\n",
      "Mastering AI and LLM Engineering – Resources\n",
      "October 16, 2024\n",
      "From Software Engineer to AI Data Scientist – resources\n",
      "August 6, 2024\n",
      "Outsmart LLM Arena – a battle of diplomacy and deviousness\n",
      "Navigation\n",
      "Home\n",
      "Outsmart\n",
      "An arena that pits LLMs against each other in a battle of diplomacy and deviousness\n",
      "About\n",
      "Posts\n",
      "Get in touch\n",
      "ed [at] edwarddonner [dot] com\n",
      "www.edwarddonner.com\n",
      "Follow me\n",
      "LinkedIn\n",
      "Twitter\n",
      "Facebook\n",
      "Subscribe to newsletter\n",
      "Type your email…\n",
      "Subscribe\n"
     ]
    }
   ],
   "source": [
    "print(user_prompt_for(ed))"
   ]
  },
  {
   "cell_type": "code",
   "execution_count": 16,
   "metadata": {},
   "outputs": [],
   "source": [
    "def messages_for(website):\n",
    "    return [\n",
    "        {\"role\": \"system\", \"content\": system_prompt},\n",
    "        {\"role\": \"user\", \"content\": user_prompt_for(website)}\n",
    "    ]"
   ]
  },
  {
   "cell_type": "code",
   "execution_count": 17,
   "metadata": {},
   "outputs": [],
   "source": [
    "def summarize(url):\n",
    "    website = Website(url)\n",
    "    response = ollama.chat(model=MODEL, messages=messages_for(website))\n",
    "    return response[\"message\"][\"content\"]"
   ]
  },
  {
   "cell_type": "code",
   "execution_count": 18,
   "metadata": {},
   "outputs": [
    {
     "data": {
      "text/plain": [
       "'**サイトの要約**\\n=================\\n### 会社概要\\n\\n*   Ed DonnerはNebula.ioの共同設立者とCTOです。\\n*   AIを特に人力を発掘する分野に応用させることで大きな成果をもたらすことを目指しています。\\n*   RecruitersがProductを使用し、Our Matching ModelやAward-Winning Platformなどで認知を獲得しています。\\n\\n### アウトスミット\\n================\\n\\n*   LLMsのバトル「アウトスミット」は、diplomacyとdeviousnessのbattleをテーマにします。\\n*   2021年、AIスタートアップ「Untapt」を買収した経歴が記載されています。\\n\\n### 最近のニュース\\n================\\n\\n*   **12月21日**, Welcome, SuperDataScientists! (サーペデータシcientistsにwelcome!)\\n*   **11月13日**, Mastering AI and LLM Engineering – Resources (AIやLLMエンジニアリングをマスターするためのリソース)\\n*   **10月16日**, From Software Engineer to AI Data Scientist – resources (ソフトウェアエンジニアからAIデータサイエンティストになるためのリソース)\\n*   **8月6日**, Outsmart LLM Arena – a battle of diplomacy and deviousness (LLMsのバトル:diplomacyとdeviousnessのbattle)'"
      ]
     },
     "execution_count": 18,
     "metadata": {},
     "output_type": "execute_result"
    }
   ],
   "source": [
    "summarize(\"https://edwarddonner.com\")"
   ]
  },
  {
   "cell_type": "code",
   "execution_count": 20,
   "metadata": {},
   "outputs": [
    {
     "data": {
      "text/markdown": [
       "### [エドワード ドナー氏のウェブサイト](https://www.edwarddonner.com/)\n",
       "\n",
       "#### [概要](#概要)\n",
       "このサイトは、エドワード・ドナー氏がオペレーショナル・ラーニング・マシン（LLM）について書いたblogや記事などを記載している。ドナー氏はNebula.ioのCEOであり、AIを人生の目的を見つけるのに役立つフィールドに応用することを目指している。\n",
       "\n",
       "#### [ニュース/アナウンス](#ニュース/アナウンス)\n",
       "*   2024年12月21日：「Welcome, SuperDataScientists!」と題したおめでZOを発表。\n",
       "*   2024年11月13日：AIおよびLLMエンジニアリングのリソース「Mastering AI and LLM Engineering – Resources」を発表。\n",
       "*   2024年10月16日：ソフトウェアエンジニアからAIデータサイエンティストに移行するためのリソース「From Software Engineer to AI Data Scientist – resources」を発表。\n",
       "*   2024年8月6日：LLMアレナ「Outsmart LLM Arena – a battle of diplomacy and deviousness」を発表。\n",
       "\n",
       "#### [関連情報](#関連情報)\n",
       "ドナー氏はNebula.ioのCEOであり、AIを人生の目的を見つけるのに役立つフィールドに応用することを目指している。彼のblogや記事では、LLMの潜在的な用途と応用について話題を取り上げている。\n",
       "\n",
       "#### [コントラクタ](#コントラクタ)\n",
       "ドナー氏はed[@]edwarddonner[dot]comのメールアドレスでコネクティングできる。LinkedIn、Twitter、Facebook、ニュースラターへのサブスクリプションが可能である。"
      ],
      "text/plain": [
       "<IPython.core.display.Markdown object>"
      ]
     },
     "metadata": {},
     "output_type": "display_data"
    }
   ],
   "source": [
    "display(Markdown(summarize(\"https://edwarddonner.com\")))"
   ]
  },
  {
   "cell_type": "code",
   "execution_count": null,
   "metadata": {},
   "outputs": [],
   "source": []
  }
 ],
 "metadata": {
  "kernelspec": {
   "display_name": ".venv",
   "language": "python",
   "name": "python3"
  },
  "language_info": {
   "codemirror_mode": {
    "name": "ipython",
    "version": 3
   },
   "file_extension": ".py",
   "mimetype": "text/x-python",
   "name": "python",
   "nbconvert_exporter": "python",
   "pygments_lexer": "ipython3",
   "version": "3.11.3"
  }
 },
 "nbformat": 4,
 "nbformat_minor": 2
}
