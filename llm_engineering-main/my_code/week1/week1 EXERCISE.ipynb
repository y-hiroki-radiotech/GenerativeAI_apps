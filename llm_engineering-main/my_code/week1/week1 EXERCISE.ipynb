{
 "cells": [
  {
   "cell_type": "markdown",
   "id": "fe12c203-e6a6-452c-a655-afb8a03a4ff5",
   "metadata": {},
   "source": [
    "# End of week 1 exercise\n",
    "\n",
    "To demonstrate your familiarity with OpenAI API, and also Ollama, build a tool that takes a technical question,  \n",
    "and responds with an explanation. This is a tool that you will be able to use yourself during the course!"
   ]
  },
  {
   "cell_type": "code",
   "execution_count": 5,
   "id": "c1070317-3ed9-4659-abe3-828943230e03",
   "metadata": {},
   "outputs": [],
   "source": [
    "# imports\n",
    "from openai import OpenAI\n",
    "from dotenv import load_dotenv\n",
    "import ollama\n",
    "from IPython.display import Markdown, display, update_display"
   ]
  },
  {
   "cell_type": "code",
   "execution_count": 13,
   "id": "4a456906-915a-4bfd-bb9d-57e505c5093f",
   "metadata": {},
   "outputs": [],
   "source": [
    "# constants\n",
    "MODEL_GPT = 'gpt-4o-mini'\n",
    "MODEL_LLAMA = 'llama3.2'"
   ]
  },
  {
   "cell_type": "code",
   "execution_count": 14,
   "id": "a8d7923c-5f28-4c30-8556-342d7c8497c1",
   "metadata": {},
   "outputs": [
    {
     "data": {
      "text/plain": [
       "True"
      ]
     },
     "execution_count": 14,
     "metadata": {},
     "output_type": "execute_result"
    }
   ],
   "source": [
    "# set up environment\n",
    "load_dotenv()"
   ]
  },
  {
   "cell_type": "code",
   "execution_count": 21,
   "id": "3f0d0137-52b0-47a8-81a8-11a90a010798",
   "metadata": {},
   "outputs": [],
   "source": [
    "# here is the question; type over this to ask something new\n",
    "\n",
    "question = \"\"\"\n",
    "Please explain what this code does and why:\n",
    "yield from {book.get(\"author\") for book in books if book.get(\"author\")}\n",
    "\"\"\""
   ]
  },
  {
   "cell_type": "code",
   "execution_count": 22,
   "id": "78cacfa0",
   "metadata": {},
   "outputs": [],
   "source": [
    "system_prompt = \"You are a Python tutor explaining code to a student.\\\n",
    "When explaining code and providing translations: \\\n",
    "- Break down code functionality clearly and concisely \\\n",
    "- Maintain technical accuracy \\\n",
    "- Use simple language and examples\\\n",
    "- Follow with Japanese translation\\\n",
    "- Output should be in Markdown format\""
   ]
  },
  {
   "cell_type": "code",
   "execution_count": 23,
   "id": "60ce7000-a4a5-4cce-a261-e75ef45063b4",
   "metadata": {},
   "outputs": [],
   "source": [
    "# Get gpt-4o-mini to answer, with streaming\n",
    "def ask_gpt(system_prompt, user_messages):\n",
    "    openai = OpenAI()\n",
    "    stream = openai.chat.completions.create(\n",
    "        model=MODEL_GPT,\n",
    "        messages=[\n",
    "            {\"role\": \"system\", \"content\": system_prompt},\n",
    "            {\"role\": \"user\", \"content\": user_messages},\n",
    "        ],\n",
    "        stream=True\n",
    "    )\n",
    "    response = \"\"\n",
    "    display_handle = display(Markdown(\"\"), display_id=True)\n",
    "    for chunk in stream:\n",
    "        response += chunk.choices[0].delta.content or \"\"\n",
    "        response = response.replace(\"```\", \"\").replace(\"markdown\", \"\")\n",
    "        update_display(Markdown(response), display_id=display_handle.display_id)"
   ]
  },
  {
   "cell_type": "code",
   "execution_count": 24,
   "id": "8f7c8ea8-4082-4ad0-8751-3301adcf6538",
   "metadata": {},
   "outputs": [],
   "source": [
    "# Get Llama 3.2 to answer\n",
    "def ask_ollama(system_prompt, user_messages):\n",
    "    response = ollama.chat(\n",
    "        model=MODEL_LLAMA,\n",
    "        messages=[\n",
    "            {\"role\": \"system\", \"content\": system_prompt},\n",
    "            {\"role\": \"user\", \"content\": user_messages},\n",
    "        ]\n",
    "    )\n",
    "    return response[\"message\"][\"content\"]"
   ]
  },
  {
   "cell_type": "code",
   "execution_count": 25,
   "id": "ebfdfe6f",
   "metadata": {},
   "outputs": [
    {
     "data": {
      "text/markdown": [
       "Certainly! Let's break this code down step by step.\n",
       "\n",
       "### Code Explanation\n",
       "\n",
       "1. **Set Comprehension**: \n",
       "   - The code uses a set comprehension: `{... for book in books if book.get(\"author\")}`.\n",
       "   - This means it creates a set of unique authors from a collection of books.\n",
       "\n",
       "2. **Looping Through 'books'**:\n",
       "   - `for book in books`: This part iterates over each item (which we call `book`) in the `books` collection.\n",
       "\n",
       "3. **Getting the Author**:\n",
       "   - `book.get(\"author\")`: This function tries to get the value associated with the key `\"author\"` from each `book` dictionary. If the key does not exist, it returns `None`.\n",
       "\n",
       "4. **Filtering Authors**:\n",
       "   - `if book.get(\"author\")`: This condition checks if the author exists (i.e., the value is not `None`). Only those books that have an author will be included in the set.\n",
       "\n",
       "5. **Yielding Results**:\n",
       "   - `yield from`: This part allows the function to yield each unique author found in the set. It’s like saying, “give me values from this set, one by one.”\n",
       "\n",
       "### Purpose\n",
       "\n",
       "The purpose of the entire line of code is to gather all the unique authors from a collection of book dictionaries and yield them one by one. This can be useful in scenarios where you want to process or check each author without needing to store all authors in memory at once.\n",
       "\n",
       "### Example\n",
       "\n",
       "If you had a list like this:\n",
       "\n",
       "python\n",
       "books = [\n",
       "    {\"title\": \"Book 1\", \"author\": \"Author A\"},\n",
       "    {\"title\": \"Book 2\", \"author\": \"Author B\"},\n",
       "    {\"title\": \"Book 3\"},  # No author\n",
       "    {\"title\": \"Book 4\", \"author\": \"Author A\"}\n",
       "]\n",
       "\n",
       "\n",
       "Running this code would yield:\n",
       "- \"Author A\"\n",
       "- \"Author B\"\n",
       "\n",
       "Even though \"Author A\" appears twice, it only shows up once in the final output because sets do not allow duplicates.\n",
       "\n",
       "### Japanese Translation\n",
       "\n",
       "コードを一歩ずつ分解して説明します。\n",
       "\n",
       "1. **セット内包表記**: \n",
       "   - コードはセット内包表記を使っています: `{... for book in books if book.get(\"author\")}`。\n",
       "   - これは、書籍のコレクションからユニークな著者のセットを作成します。\n",
       "\n",
       "2. **'books'をループ処理する**:\n",
       "   - `for book in books`: これは、`books`コレクションの各アイテム（`book`と呼ばれる）を繰り返します。\n",
       "\n",
       "3. **著者を取得する**:\n",
       "   - `book.get(\"author\")`: この関数は、各`book`辞書の`\"author\"`というキーに関連付けられた値を取得しようとします。キーが存在しなければ、`None`を返します。\n",
       "\n",
       "4. **著者のフィルタリング**:\n",
       "   - `if book.get(\"author\")`: この条件は、著者が存在するか（つまり、値が`None`ではない）を確認します。著者がある書籍だけがセットに含まれます。\n",
       "\n",
       "5. **結果を生成する**:\n",
       "   - `yield from`: これは関数がセット内で見つかった各ユニークな著者を生成することを可能にします。「このセットから値を一つずつ与えてください」という意味です。\n",
       "\n",
       "### 目的\n",
       "\n",
       "このコード全体の目的は、書籍の辞書コレクションからすべてのユニークな著者を集め、それを一つずつ生成することです。これは、すべての著者を一度にメモリに格納する必要なく、各著者を処理またはチェックしたい場合に便利です。\n",
       "\n",
       "### 例\n",
       "\n",
       "もしこんなリストがあったとします：\n",
       "\n",
       "python\n",
       "books = [\n",
       "    {\"title\": \"Book 1\", \"author\": \"Author A\"},\n",
       "    {\"title\": \"Book 2\", \"author\": \"Author B\"},\n",
       "    {\"title\": \"Book 3\"},  # 著者なし\n",
       "    {\"title\": \"Book 4\", \"author\": \"Author A\"}\n",
       "]\n",
       "\n",
       "\n",
       "このコードを実行すると、次のものを生成します：\n",
       "- \"Author A\"\n",
       "- \"Author B\"\n",
       "\n",
       "「Author A」は二回出現しますが、セットは重複を許可しないため、最終的な出力には一度だけ表示されます。"
      ],
      "text/plain": [
       "<IPython.core.display.Markdown object>"
      ]
     },
     "metadata": {},
     "output_type": "display_data"
    }
   ],
   "source": [
    "ask_gpt(system_prompt, question)"
   ]
  },
  {
   "cell_type": "code",
   "execution_count": 26,
   "id": "fd66a359",
   "metadata": {},
   "outputs": [
    {
     "data": {
      "text/plain": [
       "'**English Explanation**\\n=====================================\\n\\nThis line of code is using a combination of Python features to extract the authors from a list of books. Let\\'s break it down:\\n\\n* `yield from`: This keyword is used to delegate iteration to another iterable. In this case, it allows us to yield values from the generator expression inside.\\n* `{book.get(\"author\") for book in books if book.get(\"author\")}`: This is a generator expression that iterates over each book in the `books` list.\\n\\nThe `if` condition (`if book.get(\"author\")`) filters out any books that don\\'t have an \"author\" key present. The `.get()` method returns the value associated with the given key, or `None` if it\\'s not present.\\n\\nSo, putting it all together:\\n\\n* `yield from {book.get(\"author\") for book in books if book.get(\"author\")}`:\\n\\t+ Iterates over each book in `books`.\\n\\t+ Filters out books without an \"author\" key.\\n\\t+ Yields the author name associated with each remaining book.\\n\\nIn summary, this code generates a sequence of authors from the list of books, excluding any books that don\\'t have an author.\\n\\n**Japanese Explanation**\\n=====================================\\n\\nこのコードは、特定の書籍の著者を取得するための行列式です。\\n\\n* `yield from`: このキーワードは、別の可変数で生成される行列式をdelegateします。この場合、次の行列式が使用されます。\\n* `{book.get(\"author\") for book in books if book.get(\"author\")}`: この行列式は、`books` リスト内の各書籍を繰り返し処理します。\\n\\n`.get()` メソッドを使用すると、指定されたキーの値を取得できます。この場合、「著者」キーが存在しない書籍を除外するためのフィルタリングが行われます。値が見つからない場合、`None` が返されます。\\n\\nしたがって、次のようになります:\\n\\n* `yield from {book.get(\"author\") for book in books if book.get(\"author\")}`:\\n\\t+ `books` リスト内の各書籍を処理します。\\n\\t+ 「著者」キーが存在しない書籍を除外します。\\n\\t+ 「著者」の値が見つかる書籍ごとに、著者の名前が生成されます。\\n\\nこのコードは、特定の書籍の著者情報を取得するために使用されるパターンです。このパターンを使用すると、指定されたキーの値が見つかる各要素が生成され、その後次に処理されるようにします。'"
      ]
     },
     "execution_count": 26,
     "metadata": {},
     "output_type": "execute_result"
    }
   ],
   "source": [
    "ask_ollama(system_prompt, question)"
   ]
  },
  {
   "cell_type": "code",
   "execution_count": 27,
   "id": "a8313f3b",
   "metadata": {},
   "outputs": [
    {
     "data": {
      "text/markdown": [
       "**English Explanation**\n",
       "=====================================\n",
       "\n",
       "This line of code is using a combination of Python features to extract the authors from a list of books. Let's break it down:\n",
       "\n",
       "* `yield from`: This keyword is used to delegate iteration to another iterable. In this case, it allows us to yield values from the generator expression inside.\n",
       "* `{book.get(\"author\") for book in books if book.get(\"author\")}`: This is a generator expression that iterates over each book in the `books` list.\n",
       "\n",
       "The `if` condition (`if book.get(\"author\")`) filters out any books that don't have an \"author\" key present. The `.get()` method returns the value associated with the given key, or `None` if it's not present.\n",
       "\n",
       "So, putting it all together:\n",
       "\n",
       "* `yield from {book.get(\"author\") for book in books if book.get(\"author\")}`:\n",
       "\t+ Iterates over each book in `books`.\n",
       "\t+ Filters out books without an \"author\" key.\n",
       "\t+ Yields the author name associated with each remaining book.\n",
       "\n",
       "In summary, this code generates a sequence of authors from the list of books, excluding any books that don't have an author.\n",
       "\n",
       "**Japanese Explanation**\n",
       "=====================================\n",
       "\n",
       "このコードは、特定の書籍の著者を取得するための行列式です。\n",
       "\n",
       "* `yield from`: このキーワードは、別の可変数で生成される行列式をdelegateします。この場合、次の行列式が使用されます。\n",
       "* `{book.get(\"author\") for book in books if book.get(\"author\")}`: この行列式は、`books` リスト内の各書籍を繰り返し処理します。\n",
       "\n",
       "`.get()` メソッドを使用すると、指定されたキーの値を取得できます。この場合、「著者」キーが存在しない書籍を除外するためのフィルタリングが行われます。値が見つからない場合、`None` が返されます。\n",
       "\n",
       "したがって、次のようになります:\n",
       "\n",
       "* `yield from {book.get(\"author\") for book in books if book.get(\"author\")}`:\n",
       "\t+ `books` リスト内の各書籍を処理します。\n",
       "\t+ 「著者」キーが存在しない書籍を除外します。\n",
       "\t+ 「著者」の値が見つかる書籍ごとに、著者の名前が生成されます。\n",
       "\n",
       "このコードは、特定の書籍の著者情報を取得するために使用されるパターンです。このパターンを使用すると、指定されたキーの値が見つかる各要素が生成され、その後次に処理されるようにします。"
      ],
      "text/plain": [
       "<IPython.core.display.Markdown object>"
      ]
     },
     "execution_count": 27,
     "metadata": {},
     "output_type": "execute_result"
    }
   ],
   "source": [
    "Markdown(_)"
   ]
  },
  {
   "cell_type": "code",
   "execution_count": null,
   "id": "4b937190",
   "metadata": {},
   "outputs": [],
   "source": []
  },
  {
   "cell_type": "code",
   "execution_count": null,
   "id": "09ff4a8f",
   "metadata": {},
   "outputs": [],
   "source": [
    "system_prompt = \"You are an assistant that analyzes the contents of several relevant pages from a company website \\\n",
    "and creates a short brochure about the company for prospective customers, investors and recruits. Respond in markdown.\\\n",
    "Include details of company culture, customers and careers/jobs if you have the information.\""
   ]
  }
 ],
 "metadata": {
  "kernelspec": {
   "display_name": ".venv",
   "language": "python",
   "name": "python3"
  },
  "language_info": {
   "codemirror_mode": {
    "name": "ipython",
    "version": 3
   },
   "file_extension": ".py",
   "mimetype": "text/x-python",
   "name": "python",
   "nbconvert_exporter": "python",
   "pygments_lexer": "ipython3",
   "version": "3.11.3"
  }
 },
 "nbformat": 4,
 "nbformat_minor": 5
}
