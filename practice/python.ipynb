{
 "cells": [
  {
   "cell_type": "code",
   "execution_count": 4,
   "metadata": {},
   "outputs": [
    {
     "data": {
      "text/plain": [
       "True"
      ]
     },
     "execution_count": 4,
     "metadata": {},
     "output_type": "execute_result"
    }
   ],
   "source": [
    "import pathlib\n",
    "import textwrap\n",
    "\n",
    "import google.generativeai as genai\n",
    "\n",
    "from IPython.display import display, Markdown\n",
    "\n",
    "from dotenv import load_dotenv\n",
    "\n",
    "load_dotenv()"
   ]
  },
  {
   "cell_type": "code",
   "execution_count": 2,
   "metadata": {},
   "outputs": [],
   "source": [
    "def to_markdown(text):\n",
    "    text = text.replace(\"•\", \" *\")\n",
    "    return Markdown(textwrap.indent(text, \"> \", predicate=lambda _: True))"
   ]
  },
  {
   "cell_type": "code",
   "execution_count": 5,
   "metadata": {},
   "outputs": [],
   "source": [
    "genai.configure()"
   ]
  },
  {
   "cell_type": "markdown",
   "metadata": {},
   "source": [
    "## List models"
   ]
  },
  {
   "cell_type": "code",
   "execution_count": 6,
   "metadata": {},
   "outputs": [
    {
     "name": "stdout",
     "output_type": "stream",
     "text": [
      "models/gemini-1.0-pro-latest\n",
      "models/gemini-1.0-pro\n",
      "models/gemini-pro\n",
      "models/gemini-1.0-pro-001\n",
      "models/gemini-1.0-pro-vision-latest\n",
      "models/gemini-pro-vision\n",
      "models/gemini-1.5-pro-latest\n",
      "models/gemini-1.5-pro-001\n",
      "models/gemini-1.5-pro-002\n",
      "models/gemini-1.5-pro\n",
      "models/gemini-1.5-pro-exp-0801\n",
      "models/gemini-1.5-pro-exp-0827\n",
      "models/gemini-1.5-flash-latest\n",
      "models/gemini-1.5-flash-001\n",
      "models/gemini-1.5-flash-001-tuning\n",
      "models/gemini-1.5-flash\n",
      "models/gemini-1.5-flash-exp-0827\n",
      "models/gemini-1.5-flash-002\n",
      "models/gemini-1.5-flash-8b\n",
      "models/gemini-1.5-flash-8b-001\n",
      "models/gemini-1.5-flash-8b-latest\n",
      "models/gemini-1.5-flash-8b-exp-0827\n",
      "models/gemini-1.5-flash-8b-exp-0924\n",
      "models/gemini-2.0-flash-exp\n",
      "models/gemini-exp-1206\n",
      "models/gemini-exp-1121\n",
      "models/gemini-exp-1114\n",
      "models/gemini-2.0-flash-thinking-exp\n",
      "models/gemini-2.0-flash-thinking-exp-1219\n",
      "models/learnlm-1.5-pro-experimental\n"
     ]
    }
   ],
   "source": [
    "for m in genai.list_models():\n",
    "    if \"generateContent\" in m.supported_generation_methods:\n",
    "        print(m.name)"
   ]
  },
  {
   "cell_type": "code",
   "execution_count": 7,
   "metadata": {},
   "outputs": [
    {
     "data": {
      "text/plain": [
       "genai.GenerativeModel(\n",
       "    model_name='models/gemini-pro',\n",
       "    generation_config={},\n",
       "    safety_settings={},\n",
       "    tools=None,\n",
       "    system_instruction=None,\n",
       "    cached_content=None\n",
       ")"
      ]
     },
     "execution_count": 7,
     "metadata": {},
     "output_type": "execute_result"
    }
   ],
   "source": [
    "model = genai.GenerativeModel(\"gemini-pro\")\n",
    "model"
   ]
  },
  {
   "cell_type": "code",
   "execution_count": 8,
   "metadata": {},
   "outputs": [
    {
     "name": "stdout",
     "output_type": "stream",
     "text": [
      "CPU times: user 13.1 ms, sys: 15.4 ms, total: 28.4 ms\n",
      "Wall time: 6.06 s\n"
     ]
    }
   ],
   "source": [
    "%%time\n",
    "response = model.generate_content(\"What is the meaning of life?\")"
   ]
  },
  {
   "cell_type": "code",
   "execution_count": 9,
   "metadata": {},
   "outputs": [
    {
     "data": {
      "text/plain": [
       "response:\n",
       "GenerateContentResponse(\n",
       "    done=True,\n",
       "    iterator=None,\n",
       "    result=protos.GenerateContentResponse({\n",
       "      \"candidates\": [\n",
       "        {\n",
       "          \"content\": {\n",
       "            \"parts\": [\n",
       "              {\n",
       "                \"text\": \"**Philosophical Perspectives:**\\n\\n* **Existentialism:** Life has no inherent meaning; individuals must create their own by taking responsibility for their actions and choices.\\n* **Utilitarianism:** The meaning of life is to maximize happiness and minimize suffering for all.\\n* **Absolutism:** There is an objective meaning to life, often derived from religion or a higher power.\\n* **Nihilist:** Life is ultimately meaningless, and all human endeavors are futile.\\n\\n**Scientific Perspectives:**\\n\\n* **Evolutionary Biology:** The meaning of life is to replicate genes and ensure the survival of the species.\\n* **Complexity Theory:** Life is an emergent property of complex systems, and its meaning is determined by the interactions between its components.\\n\\n**Personal Perspectives:**\\n\\n* **Subjective Meaning:** Each individual defines the meaning of life for themselves, based on their values, goals, and experiences.\\n* **Purpose-Driven:** Life has a purpose that guides one's actions and aspirations. This purpose may be driven by personal fulfillment, social responsibility, or spiritual belief.\\n* **Meaningful Experiences:** Life is made up of moments and experiences that bring joy, satisfaction, and a sense of accomplishment.\\n* **Legacy:** The meaning of life can be found in the impact one makes on others and the world they leave behind.\\n\\n**Additional Considerations:**\\n\\n* The meaning of life is not necessarily static; it can evolve and change throughout one's lifetime.\\n* There may be multiple, overlapping meanings to life, depending on one's perspective and stage of life.\\n* The search for meaning is an ongoing journey, not a destination. It involves self-reflection, exploration, and a willingness to embrace change and uncertainty.\\n* Ultimately, the meaning of life is a personal and subjective concept; there is no universal answer that applies to everyone.\"\n",
       "              }\n",
       "            ],\n",
       "            \"role\": \"model\"\n",
       "          },\n",
       "          \"finish_reason\": \"STOP\",\n",
       "          \"index\": 0,\n",
       "          \"safety_ratings\": [\n",
       "            {\n",
       "              \"category\": \"HARM_CATEGORY_SEXUALLY_EXPLICIT\",\n",
       "              \"probability\": \"NEGLIGIBLE\"\n",
       "            },\n",
       "            {\n",
       "              \"category\": \"HARM_CATEGORY_HATE_SPEECH\",\n",
       "              \"probability\": \"NEGLIGIBLE\"\n",
       "            },\n",
       "            {\n",
       "              \"category\": \"HARM_CATEGORY_HARASSMENT\",\n",
       "              \"probability\": \"NEGLIGIBLE\"\n",
       "            },\n",
       "            {\n",
       "              \"category\": \"HARM_CATEGORY_DANGEROUS_CONTENT\",\n",
       "              \"probability\": \"NEGLIGIBLE\"\n",
       "            }\n",
       "          ]\n",
       "        }\n",
       "      ],\n",
       "      \"usage_metadata\": {\n",
       "        \"prompt_token_count\": 8,\n",
       "        \"candidates_token_count\": 378,\n",
       "        \"total_token_count\": 386\n",
       "      }\n",
       "    }),\n",
       ")"
      ]
     },
     "execution_count": 9,
     "metadata": {},
     "output_type": "execute_result"
    }
   ],
   "source": [
    "response"
   ]
  },
  {
   "cell_type": "code",
   "execution_count": 11,
   "metadata": {},
   "outputs": [
    {
     "name": "stdout",
     "output_type": "stream",
     "text": [
      "**Philosophical Perspectives:**\n",
      "\n",
      "* **Existentialism:** Life has no inherent meaning; individuals must create their own by taking responsibility for their actions and choices.\n",
      "* **Utilitarianism:** The meaning of life is to maximize happiness and minimize suffering for all.\n",
      "* **Absolutism:** There is an objective meaning to life, often derived from religion or a higher power.\n",
      "* **Nihilist:** Life is ultimately meaningless, and all human endeavors are futile.\n",
      "\n",
      "**Scientific Perspectives:**\n",
      "\n",
      "* **Evolutionary Biology:** The meaning of life is to replicate genes and ensure the survival of the species.\n",
      "* **Complexity Theory:** Life is an emergent property of complex systems, and its meaning is determined by the interactions between its components.\n",
      "\n",
      "**Personal Perspectives:**\n",
      "\n",
      "* **Subjective Meaning:** Each individual defines the meaning of life for themselves, based on their values, goals, and experiences.\n",
      "* **Purpose-Driven:** Life has a purpose that guides one's actions and aspirations. This purpose may be driven by personal fulfillment, social responsibility, or spiritual belief.\n",
      "* **Meaningful Experiences:** Life is made up of moments and experiences that bring joy, satisfaction, and a sense of accomplishment.\n",
      "* **Legacy:** The meaning of life can be found in the impact one makes on others and the world they leave behind.\n",
      "\n",
      "**Additional Considerations:**\n",
      "\n",
      "* The meaning of life is not necessarily static; it can evolve and change throughout one's lifetime.\n",
      "* There may be multiple, overlapping meanings to life, depending on one's perspective and stage of life.\n",
      "* The search for meaning is an ongoing journey, not a destination. It involves self-reflection, exploration, and a willingness to embrace change and uncertainty.\n",
      "* Ultimately, the meaning of life is a personal and subjective concept; there is no universal answer that applies to everyone.\n"
     ]
    }
   ],
   "source": [
    "print(response.text)"
   ]
  },
  {
   "cell_type": "code",
   "execution_count": 12,
   "metadata": {},
   "outputs": [
    {
     "data": {
      "text/plain": [
       "genai.GenerativeModel(\n",
       "    model_name='models/gemini-1.5-flash-latest',\n",
       "    generation_config={},\n",
       "    safety_settings={},\n",
       "    tools=None,\n",
       "    system_instruction=None,\n",
       "    cached_content=None\n",
       ")"
      ]
     },
     "execution_count": 12,
     "metadata": {},
     "output_type": "execute_result"
    }
   ],
   "source": [
    "model = genai.GenerativeModel(\"gemini-1.5-flash-latest\")\n",
    "model"
   ]
  },
  {
   "cell_type": "code",
   "execution_count": 23,
   "metadata": {},
   "outputs": [
    {
     "name": "stdout",
     "output_type": "stream",
     "text": [
      "CPU times: user 6.05 ms, sys: 6.04 ms, total: 12.1 ms\n",
      "Wall time: 2.15 s\n"
     ]
    }
   ],
   "source": [
    "%%time\n",
    "response = model.generate_content(\"What is the meaning of life?\")"
   ]
  },
  {
   "cell_type": "code",
   "execution_count": 24,
   "metadata": {},
   "outputs": [
    {
     "data": {
      "text/plain": [
       "response:\n",
       "GenerateContentResponse(\n",
       "    done=True,\n",
       "    iterator=None,\n",
       "    result=protos.GenerateContentResponse({\n",
       "      \"candidates\": [\n",
       "        {\n",
       "          \"content\": {\n",
       "            \"parts\": [\n",
       "              {\n",
       "                \"text\": \"There's no single, universally accepted answer to the meaning of life.  It's a question that has been pondered by philosophers, theologians, and individuals for centuries.  The meaning is often considered to be subjective and personal, shaped by individual experiences, beliefs, and values.\\n\\nSome common perspectives include:\\n\\n* **Nihilism:** The belief that life is inherently without meaning or purpose.\\n* **Existentialism:** The belief that individuals create their own meaning and purpose through their choices and actions.\\n* **Absurdism:** The belief that the search for meaning in a meaningless universe is inherently absurd, but that this absurdity should be embraced.\\n* **Spiritual and Religious Beliefs:** Many religions offer answers about the meaning of life, often involving serving a higher power, following divine commandments, and achieving enlightenment or salvation.\\n* **Humanism:**  Focuses on human values and ethics, emphasizing reason, compassion, and social justice.  Meaning is found in contributing to human flourishing and well-being.\\n* **Hedonism:**  The pursuit of pleasure and avoidance of pain as the ultimate goal in life.\\n\\nUltimately, the meaning of life is what you make it. It's a question of personal exploration and discovery.  It's not about finding a pre-ordained answer, but rather about creating a life that is meaningful and fulfilling to you.\\n\"\n",
       "              }\n",
       "            ],\n",
       "            \"role\": \"model\"\n",
       "          },\n",
       "          \"finish_reason\": \"STOP\",\n",
       "          \"avg_logprobs\": -0.12594522556788484\n",
       "        }\n",
       "      ],\n",
       "      \"usage_metadata\": {\n",
       "        \"prompt_token_count\": 8,\n",
       "        \"candidates_token_count\": 284,\n",
       "        \"total_token_count\": 292\n",
       "      }\n",
       "    }),\n",
       ")"
      ]
     },
     "execution_count": 24,
     "metadata": {},
     "output_type": "execute_result"
    }
   ],
   "source": [
    "response"
   ]
  },
  {
   "cell_type": "code",
   "execution_count": 25,
   "metadata": {},
   "outputs": [
    {
     "name": "stdout",
     "output_type": "stream",
     "text": [
      "There's no single, universally accepted answer to the meaning of life.  It's a question that has been pondered by philosophers, theologians, and individuals for centuries.  The meaning is often considered to be subjective and personal, shaped by individual experiences, beliefs, and values.\n",
      "\n",
      "Some common perspectives include:\n",
      "\n",
      "* **Nihilism:** The belief that life is inherently without meaning or purpose.\n",
      "* **Existentialism:** The belief that individuals create their own meaning and purpose through their choices and actions.\n",
      "* **Absurdism:** The belief that the search for meaning in a meaningless universe is inherently absurd, but that this absurdity should be embraced.\n",
      "* **Spiritual and Religious Beliefs:** Many religions offer answers about the meaning of life, often involving serving a higher power, following divine commandments, and achieving enlightenment or salvation.\n",
      "* **Humanism:**  Focuses on human values and ethics, emphasizing reason, compassion, and social justice.  Meaning is found in contributing to human flourishing and well-being.\n",
      "* **Hedonism:**  The pursuit of pleasure and avoidance of pain as the ultimate goal in life.\n",
      "\n",
      "Ultimately, the meaning of life is what you make it. It's a question of personal exploration and discovery.  It's not about finding a pre-ordained answer, but rather about creating a life that is meaningful and fulfilling to you.\n",
      "\n"
     ]
    }
   ],
   "source": [
    "print(response.text)"
   ]
  },
  {
   "cell_type": "code",
   "execution_count": 20,
   "metadata": {},
   "outputs": [
    {
     "data": {
      "text/markdown": [
       "> There's no single, universally agreed-upon answer to the meaning of life.  The question itself is deeply philosophical and personal, and different people find meaning in different things.  Some possibilities include:\n",
       "> \n",
       "> * **Relationships:**  Finding meaning through connection with others – family, friends, community.  Love, belonging, and shared experiences.\n",
       "> \n",
       "> * **Contribution:**  Making a positive impact on the world, leaving a legacy, helping others, serving a greater purpose.\n",
       "> \n",
       "> * **Personal Growth:**  Continuously learning, developing skills, expanding one's understanding of oneself and the world.\n",
       "> \n",
       "> * **Experiences:**  Seeking out new adventures, exploring different cultures, appreciating beauty and wonder.\n",
       "> \n",
       "> * **Spirituality or Faith:**  Finding meaning through a connection with something greater than oneself – a god, the universe, or a higher power.\n",
       "> \n",
       "> * **Creativity:**  Expressing oneself through art, music, writing, or other creative endeavors.\n",
       "> \n",
       "> * **Purpose-driven work:**  Finding fulfillment in a career that aligns with one's values and passions.\n",
       "> \n",
       "> * **Self-discovery:**  The journey of understanding oneself, one's strengths, weaknesses, and place in the world.\n",
       "> \n",
       "> Ultimately, the meaning of life is what *you* make it. It's a question to be explored and answered personally throughout your life, and the answer may evolve over time.  There's no right or wrong answer.\n"
      ],
      "text/plain": [
       "<IPython.core.display.Markdown object>"
      ]
     },
     "execution_count": 20,
     "metadata": {},
     "output_type": "execute_result"
    }
   ],
   "source": [
    "to_markdown(response.text)"
   ]
  },
  {
   "cell_type": "code",
   "execution_count": 27,
   "metadata": {},
   "outputs": [
    {
     "data": {
      "text/plain": [
       "[content {\n",
       "  parts {\n",
       "    text: \"There\\'s no single, universally accepted answer to the meaning of life.  It\\'s a question that has been pondered by philosophers, theologians, and individuals for centuries.  The meaning is often considered to be subjective and personal, shaped by individual experiences, beliefs, and values.\\n\\nSome common perspectives include:\\n\\n* **Nihilism:** The belief that life is inherently without meaning or purpose.\\n* **Existentialism:** The belief that individuals create their own meaning and purpose through their choices and actions.\\n* **Absurdism:** The belief that the search for meaning in a meaningless universe is inherently absurd, but that this absurdity should be embraced.\\n* **Spiritual and Religious Beliefs:** Many religions offer answers about the meaning of life, often involving serving a higher power, following divine commandments, and achieving enlightenment or salvation.\\n* **Humanism:**  Focuses on human values and ethics, emphasizing reason, compassion, and social justice.  Meaning is found in contributing to human flourishing and well-being.\\n* **Hedonism:**  The pursuit of pleasure and avoidance of pain as the ultimate goal in life.\\n\\nUltimately, the meaning of life is what you make it. It\\'s a question of personal exploration and discovery.  It\\'s not about finding a pre-ordained answer, but rather about creating a life that is meaningful and fulfilling to you.\\n\"\n",
       "  }\n",
       "  role: \"model\"\n",
       "}\n",
       "finish_reason: STOP\n",
       "avg_logprobs: -0.12594522556788484\n",
       "]"
      ]
     },
     "execution_count": 27,
     "metadata": {},
     "output_type": "execute_result"
    }
   ],
   "source": [
    "response.candidates"
   ]
  },
  {
   "cell_type": "code",
   "execution_count": 28,
   "metadata": {},
   "outputs": [
    {
     "name": "stdout",
     "output_type": "stream",
     "text": [
      "CPU times: user 8.61 ms, sys: 6.59 ms, total: 15.2 ms\n",
      "Wall time: 3.47 s\n"
     ]
    }
   ],
   "source": [
    "%%time\n",
    "response = model.generate_content(\"What is the meaning of life?\", stream=True)"
   ]
  },
  {
   "cell_type": "code",
   "execution_count": 29,
   "metadata": {},
   "outputs": [
    {
     "name": "stdout",
     "output_type": "stream",
     "text": [
      "There\n",
      "________________________________________________________________________________\n",
      "'s no single, universally accepted answer to the meaning of life.  It\n",
      "________________________________________________________________________________\n",
      "'s a question that has been pondered by philosophers, theologians, and individuals for\n",
      "________________________________________________________________________________\n",
      " millennia.  The meaning of life is often considered to be a deeply personal and subjective experience.\n",
      "\n",
      "Different perspectives include:\n",
      "\n",
      "* **Nihilism:**  \n",
      "________________________________________________________________________________\n",
      "The belief that life is inherently without meaning or purpose.\n",
      "* **Existentialism:** The belief that individuals create their own meaning and purpose through their choices and\n",
      "________________________________________________________________________________\n",
      " actions.\n",
      "* **Absurdism:** The belief that the search for meaning in a meaningless universe is inherently absurd, but that we should embrace this absurdity.\n",
      "* **Spiritual/Religious beliefs:** Many religions offer answers about the meaning\n",
      "________________________________________________________________________________\n",
      " of life, often involving serving a higher power, following divine commandments, and achieving enlightenment or salvation.\n",
      "* **Hedonism:** The belief that pleasure and happiness are the ultimate goals in life.\n",
      "* **Humanism:** The belief\n",
      "________________________________________________________________________________\n",
      " that human values and reason are central to understanding the world and living a meaningful life.\n",
      "* **Purpose-driven life:** Finding meaning through contributing to something larger than oneself, such as a cause, community, or family.\n",
      "\n",
      "\n",
      "Ultimately, the meaning of life is what you make it.  It's a question\n",
      "________________________________________________________________________________\n",
      " to explore and answer for yourself through your experiences, values, and relationships.  There's no right or wrong answer.\n",
      "\n",
      "________________________________________________________________________________\n"
     ]
    }
   ],
   "source": [
    "for chunk in response:\n",
    "    print(chunk.text)\n",
    "    print(\"_\"*80)"
   ]
  },
  {
   "cell_type": "markdown",
   "metadata": {},
   "source": [
    "### コードの確認用"
   ]
  },
  {
   "cell_type": "code",
   "execution_count": 2,
   "metadata": {},
   "outputs": [],
   "source": [
    "from dotenv import load_dotenv\n",
    "import os\n",
    "import google.generativeai as genai\n",
    "\n",
    "load_dotenv()\n",
    "genai.configure(api_key=os.getenv(\"GOOGLE_API_KEY\"))"
   ]
  },
  {
   "cell_type": "code",
   "execution_count": 12,
   "metadata": {},
   "outputs": [],
   "source": [
    "model = genai.GenerativeModel(\"gemini-pro\")\n",
    "chat = model.start_chat(history=[])\n",
    "\n",
    "def get_gemini_response(question):\n",
    "    response = chat.send_message(question)\n",
    "    return response"
   ]
  },
  {
   "cell_type": "code",
   "execution_count": 14,
   "metadata": {},
   "outputs": [],
   "source": [
    "question = \"What is the meaning of life?\"\n",
    "response = get_gemini_response(question)"
   ]
  },
  {
   "cell_type": "code",
   "execution_count": 16,
   "metadata": {},
   "outputs": [
    {
     "name": "stdout",
     "output_type": "stream",
     "text": [
      "The meaning of life is a deep philosophical question that has been pondered by humans for centuries. There is no one definitive answer, as the meaning of life can vary from person to person. However, some common themes that emerge when discussing the meaning of life include:\n",
      "\n",
      "* **Purpose:** Many people believe that life has a purpose, whether it is to fulfill a specific goal, make a difference in the world, or simply to be happy.\n",
      "* **Relationships:** Strong relationships with family, friends, and loved ones can provide a sense of purpose and meaning to life.\n",
      "* **Personal growth:** The pursuit of knowledge, skills, and experiences can help individuals grow as people and find meaning in their lives.\n",
      "* **Helping others:** Making a positive contribution to the world, whether through volunteering, donating to charity, or simply being kind to others, can provide a sense of purpose and meaning.\n",
      "* **Legacy:** Leaving a lasting impact on the world, whether through one's work, relationships, or accomplishments, can provide a sense of meaning to life.\n",
      "\n",
      "Ultimately, the meaning of life is a personal and subjective question. There is no right or wrong answer, and it is up to each individual to find what gives their life meaning.\n",
      "\n",
      "Some people may find meaning in their work, while others may find it in their relationships or hobbies. There is no one right way to live a meaningful life. The important thing is to find what makes you happy and fulfilled, and to live your life accordingly.\n",
      "\n",
      "Here are some additional thoughts on the meaning of life:\n",
      "\n",
      "* **The meaning of life is not something that is found, but something that is created.** It is up to each individual to create a life that is meaningful to them.\n",
      "* **The meaning of life can change over time.** As we grow and change, so too can our understanding of what gives our life meaning.\n",
      "* **There is no one right answer to the question of the meaning of life.** The meaning of life is different for each individual, and there is no one right way to live.\n",
      "\n",
      "The most important thing is to live a life that is true to yourself and that makes you happy. If you are living a life that is in alignment with your values and goals, then you are living a meaningful life.\n",
      "________________________________________________________________________________\n"
     ]
    }
   ],
   "source": [
    "for chunk in response:\n",
    "    print(chunk.text)\n",
    "    print(\"_\"*80)"
   ]
  },
  {
   "cell_type": "code",
   "execution_count": null,
   "metadata": {},
   "outputs": [],
   "source": []
  }
 ],
 "metadata": {
  "kernelspec": {
   "display_name": ".venv",
   "language": "python",
   "name": "python3"
  },
  "language_info": {
   "codemirror_mode": {
    "name": "ipython",
    "version": 3
   },
   "file_extension": ".py",
   "mimetype": "text/x-python",
   "name": "python",
   "nbconvert_exporter": "python",
   "pygments_lexer": "ipython3",
   "version": "3.11.3"
  }
 },
 "nbformat": 4,
 "nbformat_minor": 2
}
