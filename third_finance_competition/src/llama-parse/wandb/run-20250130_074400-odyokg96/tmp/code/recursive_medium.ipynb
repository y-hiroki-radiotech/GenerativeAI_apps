{
 "cells": [
  {
   "cell_type": "markdown",
   "metadata": {},
   "source": [
    "説明を読む感じでは、これはLangChain側で実装してもいいかなって感じはします\n",
    "https://medium.com/@thomas_reid/llamaparse-rag-beats-all-comers-60948c6cc0e4\n",
    "\n",
    "この記事を参考にしたコードを作成する\n",
    "Rerankingと複数のpdfを読み込めるかをテストしながら実装してみる"
   ]
  },
  {
   "cell_type": "code",
   "execution_count": 55,
   "metadata": {},
   "outputs": [
    {
     "data": {
      "text/plain": [
       "True"
      ]
     },
     "execution_count": 55,
     "metadata": {},
     "output_type": "execute_result"
    }
   ],
   "source": [
    "import nest_asyncio\n",
    "nest_asyncio.apply()\n",
    "from dotenv import load_dotenv\n",
    "\n",
    "load_dotenv()"
   ]
  },
  {
   "cell_type": "code",
   "execution_count": 21,
   "metadata": {},
   "outputs": [],
   "source": [
    "from llama_index.core import SimpleDirectoryReader, ServiceContext, VectorStoreIndex\n",
    "from llama_index.llms.openai import OpenAI\n",
    "from llama_parse import LlamaParse\n",
    "from llama_index.core import Settings\n",
    "from llama_index.embeddings.openai import OpenAIEmbedding\n",
    "from llama_index.core.node_parser import MarkdownElementNodeParser\n",
    "from llama_index.postprocessor.cohere_rerank import CohereRerank\n",
    "\n",
    "# setting up our LLM Settings\n",
    "Settings.llm = OpenAI(model=\"gpt-4o-mini\")\n",
    "Settings.embed_model = OpenAIEmbedding(model=\"text-embedding-3-large\")"
   ]
  },
  {
   "cell_type": "code",
   "execution_count": 8,
   "metadata": {},
   "outputs": [],
   "source": [
    "import os\n",
    "from pathlib import Path\n",
    "from glob import glob"
   ]
  },
  {
   "cell_type": "code",
   "execution_count": 17,
   "metadata": {},
   "outputs": [
    {
     "data": {
      "text/plain": [
       "3"
      ]
     },
     "execution_count": 17,
     "metadata": {},
     "output_type": "execute_result"
    }
   ],
   "source": [
    "pdf_path = glob(\"./pdf/*.pdf\")\n",
    "len(pdf_path)"
   ]
  },
  {
   "cell_type": "code",
   "execution_count": 18,
   "metadata": {},
   "outputs": [],
   "source": [
    "from llama_parse import LlamaParse\n",
    "\n",
    "parser = LlamaParse(\n",
    "    result_type=\"markdown\",\n",
    "    verbose=True,\n",
    "    num_workers=len(pdf_path)\n",
    ")"
   ]
  },
  {
   "cell_type": "code",
   "execution_count": 19,
   "metadata": {},
   "outputs": [
    {
     "name": "stderr",
     "output_type": "stream",
     "text": [
      "Parsing files:   0%|          | 0/3 [00:00<?, ?it/s]"
     ]
    },
    {
     "name": "stdout",
     "output_type": "stream",
     "text": [
      "WARNING: parsing_instruction is deprecated. Use complemental_formatting_instruction or content_guideline_instruction instead.\n",
      "WARNING: parsing_instruction is deprecated. Use complemental_formatting_instruction or content_guideline_instruction instead.\n",
      "WARNING: parsing_instruction is deprecated. Use complemental_formatting_instruction or content_guideline_instruction instead.\n"
     ]
    },
    {
     "name": "stderr",
     "output_type": "stream",
     "text": [
      "Parsing files: 100%|██████████| 3/3 [02:07<00:00, 42.55s/it]\n"
     ]
    }
   ],
   "source": [
    "# parse PDF\n",
    "documents = parser.load_data(pdf_path)"
   ]
  },
  {
   "cell_type": "code",
   "execution_count": 23,
   "metadata": {},
   "outputs": [
    {
     "data": {
      "text/plain": [
       "238"
      ]
     },
     "execution_count": 23,
     "metadata": {},
     "output_type": "execute_result"
    }
   ],
   "source": [
    "len(documents)"
   ]
  },
  {
   "cell_type": "code",
   "execution_count": 27,
   "metadata": {},
   "outputs": [
    {
     "name": "stderr",
     "output_type": "stream",
     "text": [
      "0it [00:00, ?it/s]\n",
      "2it [00:00, 1145.52it/s]\n",
      "0it [00:00, ?it/s]\n",
      "2it [00:00, 2631.31it/s]\n",
      "1it [00:00, 1610.72it/s]\n",
      "1it [00:00, 5322.72it/s]\n",
      "1it [00:00, 2983.15it/s]\n",
      "2it [00:00, 6775.94it/s]\n",
      "1it [00:00, 2916.76it/s]\n",
      "0it [00:00, ?it/s]\n",
      "3it [00:00, 2997.36it/s]\n",
      "18it [00:00, 45811.57it/s]\n",
      "6it [00:00, 63710.95it/s]\n",
      "0it [00:00, ?it/s]\n",
      "0it [00:00, ?it/s]\n",
      "0it [00:00, ?it/s]\n",
      "0it [00:00, ?it/s]\n",
      "0it [00:00, ?it/s]\n",
      "0it [00:00, ?it/s]\n",
      "0it [00:00, ?it/s]\n",
      "1it [00:00, 3079.52it/s]\n",
      "1it [00:00, 2755.78it/s]\n",
      "4it [00:00, 27016.45it/s]\n",
      "1it [00:00, 4999.17it/s]\n",
      "0it [00:00, ?it/s]\n",
      "0it [00:00, ?it/s]\n",
      "1it [00:00, 874.00it/s]\n",
      "2it [00:00, 12282.00it/s]\n",
      "6it [00:00, 5524.88it/s]\n",
      "7it [00:00, 23870.02it/s]\n",
      "0it [00:00, ?it/s]\n",
      "0it [00:00, ?it/s]\n",
      "0it [00:00, ?it/s]\n",
      "0it [00:00, ?it/s]\n",
      "1it [00:00, 5683.34it/s]\n",
      "0it [00:00, ?it/s]\n",
      "0it [00:00, ?it/s]\n",
      "1it [00:00, 7096.96it/s]\n",
      "1it [00:00, 6452.78it/s]\n",
      "1it [00:00, 15141.89it/s]\n",
      "4it [00:00, 9264.06it/s]\n",
      "3it [00:00, 4797.15it/s]\n",
      "2it [00:00, 19239.93it/s]\n",
      "4it [00:00, 28777.39it/s]\n",
      "1it [00:00, 7989.15it/s]\n",
      "2it [00:00, 23237.14it/s]\n",
      "0it [00:00, ?it/s]\n",
      "0it [00:00, ?it/s]\n",
      "2it [00:00, 11110.74it/s]\n",
      "1it [00:00, 8848.74it/s]\n",
      "1it [00:00, 3979.42it/s]\n",
      "1it [00:00, 9731.56it/s]\n",
      "1it [00:00, 5949.37it/s]\n",
      "1it [00:00, 7244.05it/s]\n",
      "1it [00:00, 12052.60it/s]\n",
      "0it [00:00, ?it/s]\n",
      "2it [00:00, 13421.77it/s]\n",
      "3it [00:00, 32939.56it/s]\n",
      "3it [00:00, 5607.36it/s]\n",
      "2it [00:00, 2273.34it/s]\n",
      "1it [00:00, 4549.14it/s]\n",
      "2it [00:00, 3716.71it/s]\n",
      "4it [00:00, 16320.25it/s]\n",
      "1it [00:00, 273.23it/s]\n",
      "1it [00:00, 935.39it/s]\n",
      "0it [00:00, ?it/s]\n",
      "0it [00:00, ?it/s]\n",
      "10it [00:00, 14089.03it/s]\n",
      "1it [00:00, 1995.39it/s]\n",
      "1it [00:00, 1281.09it/s]\n",
      "5it [00:00, 35246.25it/s]\n",
      "6it [00:00, 17797.61it/s]\n",
      "4it [00:00, 13231.24it/s]\n",
      "0it [00:00, ?it/s]\n",
      "0it [00:00, ?it/s]\n",
      "0it [00:00, ?it/s]\n",
      "1it [00:00, 734.81it/s]\n",
      "0it [00:00, ?it/s]\n",
      "0it [00:00, ?it/s]\n",
      "1it [00:00, 13934.56it/s]\n",
      "0it [00:00, ?it/s]\n",
      "0it [00:00, ?it/s]\n",
      "1it [00:00, 1855.07it/s]\n",
      "1it [00:00, 9709.04it/s]\n",
      "0it [00:00, ?it/s]\n",
      "2it [00:00, 8924.05it/s]\n",
      "1it [00:00, 6168.09it/s]\n",
      "1it [00:00, 7681.88it/s]\n",
      "0it [00:00, ?it/s]\n",
      "0it [00:00, ?it/s]\n",
      "0it [00:00, ?it/s]\n",
      "1it [00:00, 14122.24it/s]\n",
      "0it [00:00, ?it/s]\n",
      "0it [00:00, ?it/s]\n",
      "1it [00:00, 2065.14it/s]\n",
      "1it [00:00, 6668.21it/s]\n",
      "0it [00:00, ?it/s]\n",
      "0it [00:00, ?it/s]\n",
      "0it [00:00, ?it/s]\n",
      "1it [00:00, 1569.14it/s]\n",
      "1it [00:00, 8542.37it/s]\n",
      "1it [00:00, 4848.91it/s]\n",
      "2it [00:00, 17848.10it/s]\n",
      "1it [00:00, 9731.56it/s]\n",
      "0it [00:00, ?it/s]\n",
      "0it [00:00, ?it/s]\n",
      "1it [00:00, 1000.07it/s]\n",
      "1it [00:00, 9686.61it/s]\n",
      "1it [00:00, 4899.89it/s]\n",
      "0it [00:00, ?it/s]\n",
      "0it [00:00, ?it/s]\n",
      "1it [00:00, 3177.50it/s]\n",
      "1it [00:00, 2814.97it/s]\n",
      "2it [00:00, 19065.02it/s]\n",
      "0it [00:00, ?it/s]\n",
      "0it [00:00, ?it/s]\n",
      "1it [00:00, 8081.51it/s]\n",
      "1it [00:00, 11366.68it/s]\n",
      "3it [00:00, 6096.37it/s]\n",
      "2it [00:00, 8507.72it/s]\n",
      "1it [00:00, 6335.81it/s]\n",
      "1it [00:00, 10305.42it/s]\n",
      "0it [00:00, ?it/s]\n",
      "1it [00:00, 9510.89it/s]\n",
      "2it [00:00, 29746.84it/s]\n",
      "0it [00:00, ?it/s]\n",
      "2it [00:00, 14488.10it/s]\n",
      "1it [00:00, 8774.69it/s]\n",
      "1it [00:00, 8559.80it/s]\n",
      "2it [00:00, 19972.88it/s]\n",
      "4it [00:00, 6735.13it/s]\n",
      "1it [00:00, 3830.41it/s]\n",
      "3it [00:00, 11501.75it/s]\n",
      "1it [00:00, 8128.50it/s]\n",
      "1it [00:00, 9619.96it/s]\n",
      "0it [00:00, ?it/s]\n",
      "0it [00:00, ?it/s]\n",
      "0it [00:00, ?it/s]\n",
      "1it [00:00, 7626.01it/s]\n",
      "0it [00:00, ?it/s]\n",
      "1it [00:00, 8144.28it/s]\n",
      "2it [00:00, 17549.39it/s]\n",
      "0it [00:00, ?it/s]\n",
      "1it [00:00, 1876.65it/s]\n",
      "0it [00:00, ?it/s]\n",
      "0it [00:00, ?it/s]\n",
      "1it [00:00, 971.13it/s]\n",
      "0it [00:00, ?it/s]\n",
      "0it [00:00, ?it/s]\n",
      "0it [00:00, ?it/s]\n",
      "0it [00:00, ?it/s]\n",
      "1it [00:00, 10433.59it/s]\n",
      "1it [00:00, 9532.51it/s]\n",
      "0it [00:00, ?it/s]\n",
      "0it [00:00, ?it/s]\n",
      "1it [00:00, 11915.64it/s]\n",
      "1it [00:00, 5468.45it/s]\n",
      "1it [00:00, 9892.23it/s]\n",
      "0it [00:00, ?it/s]\n",
      "0it [00:00, ?it/s]\n",
      "0it [00:00, ?it/s]\n",
      "0it [00:00, ?it/s]\n",
      "0it [00:00, ?it/s]\n",
      "1it [00:00, 8192.00it/s]\n",
      "2it [00:00, 19239.93it/s]\n",
      "0it [00:00, ?it/s]\n",
      "1it [00:00, 5745.62it/s]\n",
      "0it [00:00, ?it/s]\n",
      "0it [00:00, ?it/s]\n",
      "1it [00:00, 1721.80it/s]\n",
      "0it [00:00, ?it/s]\n",
      "0it [00:00, ?it/s]\n",
      "1it [00:00, 445.30it/s]\n",
      "0it [00:00, ?it/s]\n",
      "1it [00:00, 8848.74it/s]\n",
      "0it [00:00, ?it/s]\n",
      "1it [00:00, 1996.34it/s]\n",
      "0it [00:00, ?it/s]\n",
      "1it [00:00, 6710.89it/s]\n",
      "0it [00:00, ?it/s]\n",
      "0it [00:00, ?it/s]\n",
      "0it [00:00, ?it/s]\n",
      "1it [00:00, 5377.31it/s]\n",
      "0it [00:00, ?it/s]\n",
      "0it [00:00, ?it/s]\n",
      "0it [00:00, ?it/s]\n",
      "2it [00:00, 1389.76it/s]\n",
      "1it [00:00, 10866.07it/s]\n",
      "1it [00:00, 7516.67it/s]\n",
      "0it [00:00, ?it/s]\n",
      "1it [00:00, 19239.93it/s]\n",
      "2it [00:00, 16644.06it/s]\n",
      "0it [00:00, ?it/s]\n",
      "1it [00:00, 8924.05it/s]\n",
      "0it [00:00, ?it/s]\n",
      "0it [00:00, ?it/s]\n",
      "0it [00:00, ?it/s]\n",
      "1it [00:00, 345.07it/s]\n",
      "4it [00:00, 32513.98it/s]\n",
      "1it [00:00, 9446.63it/s]\n",
      "0it [00:00, ?it/s]\n",
      "0it [00:00, ?it/s]\n",
      "0it [00:00, ?it/s]\n",
      "1it [00:00, 307.12it/s]\n",
      "0it [00:00, ?it/s]\n",
      "1it [00:00, 797.24it/s]\n",
      "1it [00:00, 8256.50it/s]\n",
      "0it [00:00, ?it/s]\n",
      "0it [00:00, ?it/s]\n",
      "0it [00:00, ?it/s]\n",
      "0it [00:00, ?it/s]\n",
      "1it [00:00, 2019.40it/s]\n",
      "1it [00:00, 10645.44it/s]\n",
      "1it [00:00, 10305.42it/s]\n",
      "0it [00:00, ?it/s]\n",
      "2it [00:00, 8297.34it/s]\n",
      "2it [00:00, 4426.71it/s]\n",
      "3it [00:00, 3680.29it/s]\n",
      "3it [00:00, 39568.91it/s]\n",
      "4it [00:00, 39568.91it/s]\n",
      "1it [00:00, 4485.89it/s]\n",
      "5it [00:00, 6946.51it/s]\n",
      "3it [00:00, 14699.66it/s]\n",
      "2it [00:00, 19065.02it/s]\n",
      "3it [00:00, 23258.62it/s]\n",
      "1it [00:00, 8473.34it/s]\n",
      "1it [00:00, 9868.95it/s]\n",
      "3it [00:00, 20036.48it/s]\n",
      "4it [00:00, 14450.66it/s]\n",
      "2it [00:00, 15141.89it/s]\n",
      "3it [00:00, 24576.00it/s]\n",
      "2it [00:00, 4650.00it/s]\n",
      "2it [00:00, 12748.64it/s]\n",
      "1it [00:00, 9157.87it/s]\n",
      "4it [00:00, 29382.16it/s]\n",
      "1it [00:00, 8612.53it/s]\n",
      "2it [00:00, 18040.02it/s]\n",
      "2it [00:00, 18355.82it/s]\n"
     ]
    }
   ],
   "source": [
    "node_parser = MarkdownElementNodeParser(\n",
    "    llm=OpenAI(model=\"gpt-4o-mini\"),\n",
    "    num_worker=len(pdf_path)\n",
    ")\n",
    "nodes = node_parser.get_nodes_from_documents(documents)"
   ]
  },
  {
   "cell_type": "code",
   "execution_count": 30,
   "metadata": {},
   "outputs": [],
   "source": [
    "base_nodes, objects = node_parser.get_nodes_and_objects(nodes)\n",
    "recursive_index = VectorStoreIndex(nodes=base_nodes + objects)"
   ]
  },
  {
   "cell_type": "code",
   "execution_count": 29,
   "metadata": {},
   "outputs": [],
   "source": [
    "reranker = CohereRerank(top_n=5)"
   ]
  },
  {
   "cell_type": "code",
   "execution_count": 36,
   "metadata": {},
   "outputs": [],
   "source": [
    "query_engine = recursive_index.as_query_engine(\n",
    "    similarity_top_k=5,\n",
    "    node_postprocessor=[reranker],\n",
    "    verbose=True\n",
    ")"
   ]
  },
  {
   "cell_type": "markdown",
   "metadata": {},
   "source": [
    "#### page_nodesを加える"
   ]
  },
  {
   "cell_type": "code",
   "execution_count": null,
   "metadata": {},
   "outputs": [],
   "source": [
    "from copy import deepcopy\n",
    "from llama_index.core.schema import TextNode\n",
    "\n",
    "def get_page_nodes(docs, separator=\"\\n---\\n\"):\n",
    "    \"\"\"Split each document into page node, by separator.\"\"\"\n",
    "    nodes = []\n",
    "    for doc in docs:\n",
    "        doc_chunks = doc.text.split(separator)\n",
    "        for doc_chunk in doc_chunks:\n",
    "            node = TextNode(\n",
    "                text=doc_chunk,\n",
    "                metadata=deepcopy(doc.metadata)\n",
    "            )\n",
    "            nodes.append(node)\n",
    "    return nodes\n",
    "\n",
    "page_nodes = get_page_nodes(documents)\n",
    "\n",
    "recursive_index_page = VectorStoreIndex(nodes=base_nodes + objects + page_nodes)\n",
    "recursive_pages_query_engine = recursive_index_page.as_query_engine(\n",
    "    similarity_top_k=5,\n",
    "    node_postprocessors=[reranker],\n",
    "    verbose=True\n",
    ")\n"
   ]
  },
  {
   "cell_type": "code",
   "execution_count": 63,
   "metadata": {},
   "outputs": [
    {
     "name": "stderr",
     "output_type": "stream",
     "text": [
      "\u001b[34m\u001b[1mwandb\u001b[0m: Currently logged in as: \u001b[33my-hiroki-rad\u001b[0m to \u001b[32mhttps://api.wandb.ai\u001b[0m. Use \u001b[1m`wandb login --relogin`\u001b[0m to force relogin\n",
      "\u001b[34m\u001b[1mwandb\u001b[0m: Using wandb-core as the SDK backend.  Please refer to https://wandb.me/wandb-core for more information.\n"
     ]
    },
    {
     "data": {
      "text/html": [
       "Tracking run with wandb version 0.19.5"
      ],
      "text/plain": [
       "<IPython.core.display.HTML object>"
      ]
     },
     "metadata": {},
     "output_type": "display_data"
    },
    {
     "data": {
      "text/html": [
       "Run data is saved locally in <code>/Users/user/Desktop/GenerativeAI_apps/third_finance_competition/src/llama-parse/wandb/run-20250130_074400-odyokg96</code>"
      ],
      "text/plain": [
       "<IPython.core.display.HTML object>"
      ]
     },
     "metadata": {},
     "output_type": "display_data"
    },
    {
     "data": {
      "text/html": [
       "Syncing run <strong><a href='https://wandb.ai/y-hiroki-rad/llama-parse-test/runs/odyokg96' target=\"_blank\">fresh-thunder-1</a></strong> to <a href='https://wandb.ai/y-hiroki-rad/llama-parse-test' target=\"_blank\">Weights & Biases</a> (<a href='https://wandb.me/developer-guide' target=\"_blank\">docs</a>)<br>"
      ],
      "text/plain": [
       "<IPython.core.display.HTML object>"
      ]
     },
     "metadata": {},
     "output_type": "display_data"
    },
    {
     "data": {
      "text/html": [
       " View project at <a href='https://wandb.ai/y-hiroki-rad/llama-parse-test' target=\"_blank\">https://wandb.ai/y-hiroki-rad/llama-parse-test</a>"
      ],
      "text/plain": [
       "<IPython.core.display.HTML object>"
      ]
     },
     "metadata": {},
     "output_type": "display_data"
    },
    {
     "data": {
      "text/html": [
       " View run at <a href='https://wandb.ai/y-hiroki-rad/llama-parse-test/runs/odyokg96' target=\"_blank\">https://wandb.ai/y-hiroki-rad/llama-parse-test/runs/odyokg96</a>"
      ],
      "text/plain": [
       "<IPython.core.display.HTML object>"
      ]
     },
     "metadata": {},
     "output_type": "display_data"
    },
    {
     "data": {
      "text/html": [
       "<button onClick=\"this.nextSibling.style.display='block';this.style.display='none';\">Display W&B run</button><iframe src='https://wandb.ai/y-hiroki-rad/llama-parse-test/runs/odyokg96?jupyter=true' style='border:none;width:100%;height:420px;display:none;'></iframe>"
      ],
      "text/plain": [
       "<wandb.sdk.wandb_run.Run at 0x13c392e10>"
      ]
     },
     "execution_count": 63,
     "metadata": {},
     "output_type": "execute_result"
    }
   ],
   "source": [
    "import wandb\n",
    "import weave\n",
    "\n",
    "wandb.init(project=\"llama-parse-test\")"
   ]
  },
  {
   "cell_type": "code",
   "execution_count": 65,
   "metadata": {},
   "outputs": [],
   "source": [
    "@weave.op()\n",
    "def get_pages_response(query):\n",
    "    response = recursive_pages_query_engine.query(query)\n",
    "    print(response)"
   ]
  },
  {
   "cell_type": "markdown",
   "metadata": {},
   "source": [
    "### テスト"
   ]
  },
  {
   "cell_type": "code",
   "execution_count": 66,
   "metadata": {},
   "outputs": [],
   "source": [
    "@weave.op()\n",
    "def get_response(query):\n",
    "    response = query_engine.query(query)\n",
    "    print(response)"
   ]
  },
  {
   "cell_type": "code",
   "execution_count": null,
   "metadata": {},
   "outputs": [
    {
     "name": "stdout",
     "output_type": "stream",
     "text": [
      "== not page_nodes ==\n"
     ]
    },
    {
     "name": "stdout",
     "output_type": "stream",
     "text": [
      "4℃グループの人材育成プログラムの根幹は、持続的に人を育てるための教育を体系化し、世代を超えて実施することにあります。このプログラムは、教育を期待と愛情を伝える手段として捉え、企業の持続的成長を支えるために人財を大切にする組織風土を育むことに注力しています。\n",
      "== used page_nodes ==\n"
     ]
    }
   ],
   "source": [
    "\"\"\"\n",
    "質問1: 4℃グループの人材育成プログラムの根幹は何ですか？\n",
    "回答: サステナブル経営の根幹である『人財』に対するグループの姿勢を表すものです\n",
    "\"\"\"\n",
    "query = \"4℃グループの人材育成プログラムの根幹は何ですか？\"\n",
    "print(\"== not page_nodes ==\")\n",
    "get_response(query)\n",
    "print(\"== used page_nodes ==\")\n",
    "get_pages_response(query)"
   ]
  },
  {
   "cell_type": "code",
   "execution_count": 56,
   "metadata": {},
   "outputs": [
    {
     "name": "stdout",
     "output_type": "stream",
     "text": [
      "== not page_nodes ==\n",
      "4℃グループは、事業継続のために第7次中期経営計画を策定しています。この計画では、環境変化への対応を前提に顧客提供価値を追求し、将来の成長基盤を構築することを目指しています。具体的には、「4℃」ブランドの価値を具現化し、高収益ビジネスモデルの再構築を行うことが中心となっています。また、ファッションジュエリーの再構築やECチャネルの拡充、OMO戦略の推進なども含まれています。さらに、アパレル事業の出店拡大やM&A、海外展開、新規事業の実行を通じて成長を図る計画もあります。\n",
      "== used page_nodes ==\n",
      "4℃グループは、事業継続のために第7次中期経営計画を策定しています。この計画では、「環境変化への対応」を前提に「顧客提供価値」を追求し、将来の飛躍に向けた成長基盤の構築を目指しています。具体的には、ブランド事業の価値を具現化し、高収益ビジネスモデルの再構築を行うことや、ファッションジュエリーの再構築、ECチャネルの拡充、OMO戦略の推進などが含まれています。また、アパレル事業においては、店舗の出店拡大や安定的な配当、顧客化の深耕なども計画されています。これらの取り組みを通じて、持続的な成長を実現することを目指しています。\n"
     ]
    }
   ],
   "source": [
    "\"\"\"\n",
    "質問2: 4℃グループが事業継続のために策定している計画にはどのようなものがありますか？\n",
    "回答: 台風や大雨による店舗の営業停止、物流プロセスの寸断などのリスクに対応するため、事業継続計画を策定しています\n",
    "\"\"\"\n",
    "query = \"4℃グループが事業継続のために策定している計画にはどのようなものがありますか？\"\n",
    "print(\"== not page_nodes ==\")\n",
    "get_response(query)\n",
    "print(\"== used page_nodes ==\")\n",
    "get_pages_response(query)"
   ]
  },
  {
   "cell_type": "code",
   "execution_count": 57,
   "metadata": {},
   "outputs": [
    {
     "name": "stdout",
     "output_type": "stream",
     "text": [
      "== not page_nodes ==\n",
      "\u001b[1;3;38;2;11;159;203mRetrieval entering 97965058-fa11-43a3-8f4a-9553ae1fbc1d: TextNode\n",
      "\u001b[0m\u001b[1;3;38;2;237;90;200mRetrieving from object TextNode with query 4℃グループが人的資本経営の実践のために推進していることは何ですか？\n",
      "\u001b[0m4℃グループは人的資本経営の実践のために、次のような取り組みを推進しています。まず、人間尊重を基本理念とし、多様な人財の育成に積極的に取り組むことで企業価値を高め、持続可能な社会の実現を目指しています。次世代リーダーの育成を目的とした教育プログラムや、女性活躍支援プログラムを実施し、特に2030年度には女性管理職比率40.0％を目指しています。\n",
      "\n",
      "また、従業員の能力開発とキャリア形成を促進するために、教育体系を整備し、テレワーク制度の導入やワークライフバランスの向上にも取り組んでいます。さらに、心理的安全性を確保し、人権を尊重する企業文化の醸成を図ることも重要な課題としています。これらの取り組みを通じて、従業員がいきいきと働ける環境を整え、持続的な成長を支援しています。\n",
      "== used page_nodes ==\n",
      "\u001b[1;3;38;2;11;159;203mRetrieval entering 97965058-fa11-43a3-8f4a-9553ae1fbc1d: TextNode\n",
      "\u001b[0m\u001b[1;3;38;2;237;90;200mRetrieving from object TextNode with query 4℃グループが人的資本経営の実践のために推進していることは何ですか？\n",
      "\u001b[0m4℃グループは、人的資本経営の実践のために、従業員の健康を重視し、テレワーク制度の導入や残業時間の削減を通じてワークライフバランスの向上に取り組んでいます。また、身体・精神・社会的に満たされた状態で働ける環境を目指し、自己実現と成長の支援、働きやすい職場づくり、多様性や個性の尊重を推進しています。さらに、次世代リーダーの育成や女性活躍支援プログラムなど、教育・研修を通じて従業員の能力開発とキャリア形成を促進しています。\n"
     ]
    }
   ],
   "source": [
    "\"\"\"\n",
    "質問3: 4℃グループが人的資本経営の実践のために推進していることは何ですか？\n",
    "回答: 従業員のwell-beingを重視し、健康経営、ワークライフバランス、多様性尊重などを推進しています\n",
    "\"\"\"\n",
    "query = \"4℃グループが人的資本経営の実践のために推進していることは何ですか？\"\n",
    "print(\"== not page_nodes ==\")\n",
    "get_response(query)\n",
    "print(\"== used page_nodes ==\")\n",
    "get_pages_response(query)"
   ]
  },
  {
   "cell_type": "code",
   "execution_count": 58,
   "metadata": {},
   "outputs": [
    {
     "name": "stdout",
     "output_type": "stream",
     "text": [
      "== not page_nodes ==\n",
      "IHIグループが事業開発と技術開発で重視しているのは、バリューチェーン視点を持った技術開発と、地域戦略に基づく新たなビジネスモデルの構築です。また、競争優位性を確保するために、社内外の技術動向を把握し、必要な技術を迅速に獲得することも重要視されています。さらに、環境変化に対応した独創的な研究開発を行い、将来のビジョンやシナリオを描くことが求められています。\n",
      "== used page_nodes ==\n",
      "IHIグループが事業開発と技術開発で重視しているのは、バリューチェーン視点を持った技術開発と、地域戦略を組み合わせたスピード感とスケール感のある事業開発です。また、社内外の技術動向を把握し、必要な技術を迅速に獲得することも重要なミッションとされています。これにより、競争優位性を確保し、持続可能な社会の実現に向けた新たなビジネスモデルを構築することを目指しています。\n"
     ]
    }
   ],
   "source": [
    "\"\"\"\n",
    "質問3: IHIグループが事業開発と技術開発で重視していることは何ですか？\n",
    "回答: バリューチェーン視点での事業開発と、将来のコアとなる可能性の高い技術の獲得を重視しています\n",
    "\"\"\"\n",
    "query = \"IHIグループが事業開発と技術開発で重視していることは何ですか？\"\n",
    "print(\"== not page_nodes ==\")\n",
    "get_response(query)\n",
    "print(\"== used page_nodes ==\")\n",
    "get_pages_response(query)"
   ]
  },
  {
   "cell_type": "code",
   "execution_count": 59,
   "metadata": {},
   "outputs": [
    {
     "name": "stdout",
     "output_type": "stream",
     "text": [
      "== not page_nodes ==\n",
      "日産が目指すサステナビリティは、「人とクルマと自然の共生」を理念とし、エネルギーや資源の使用効率を高め、多様性や循環を促進しながら、革新的な商品やサービスを提供することです。具体的には、事業活動やクルマのライフサイクル全体での環境への依存と負荷を自然が吸収可能なレベルに抑え、豊かな自然資産を次世代に引き継ぐことを究極のゴールとしています。また、安全で持続可能なモビリティを提供し、気候変動や資源問題への対応を重視し、社会に価値を提供することが重要とされています。\n",
      "== used page_nodes ==\n",
      "日産が目指すサステナビリティは、コーポレートパーパス「人々の生活を豊かに。イノベーションをドライブし続ける」に基づき、信頼される企業として革新的なクルマやサービスを提供し、すべてのステークホルダーに優れた価値を提供することです。具体的には、よりクリーンで安全、インクルーシブな世界の実現を推進し、気候変動や資源依存、大気品質・水などの環境課題に対してポジティブな影響を与えることを目指しています。また、エネルギーや資源の使用効率を高め、多様性や循環を促進しながら、持続可能なモビリティ社会の発展に貢献することが重要視されています。最終的には、事業活動やクルマのライフサイクル全体での環境への依存と負荷を自然が吸収可能なレベルに抑えることを究極のゴールとしています。\n"
     ]
    }
   ],
   "source": [
    "\"\"\"\n",
    "質問1: 日産が目指すサステナビリティとは何ですか？\n",
    "回答: よりクリーンで、安全で、インクルーシブな、誰もが共生できる世界の実現を推進し、真にサステナブルな企業となることを目指しています\n",
    "\"\"\"\n",
    "query = \"日産が目指すサステナビリティとは何ですか？\"\n",
    "print(\"== not page_nodes ==\")\n",
    "get_response(query)\n",
    "print(\"== used page_nodes ==\")\n",
    "get_pages_response(query)"
   ]
  },
  {
   "cell_type": "code",
   "execution_count": 60,
   "metadata": {},
   "outputs": [
    {
     "name": "stdout",
     "output_type": "stream",
     "text": [
      "== not page_nodes ==\n",
      "日産は従業員の能力開発のために、さまざまなプログラムを提供しています。具体的には、マネジメントスキル、ビジネススキル、リーダーシップ開発などの多様な研修を実施し、オンラインやオンデマンドでの講座も拡充しています。また、キャリア形成を支援するために、上司とのキャリア面談を年3回行い、従業員の自発的な学びを促進しています。さらに、コンピテンシー評価やパフォーマンス評価を導入し、専門性の強化を目的としたエキスパートリーダー制度も設けています。リモートワーク環境下でも学びの機会を提供するために、2万種類以上のe-ラーニングコンテンツを用意し、デジタル学習の基盤を強化しています。\n",
      "== used page_nodes ==\n",
      "日産は従業員の能力開発のために、以下の取り組みを行っています。\n",
      "\n",
      "1. **能力開発プログラム**: 従業員のエンプロイアビリティを向上させるためのプログラムを実施し、社会の変革に対応できる人材を育成しています。\n",
      "\n",
      "2. **自発的学習の促進**: 従業員が自発的に学ぶ姿勢を大切にし、企業文化の醸成と人材育成に努めています。\n",
      "\n",
      "3. **キャリア面談**: 全従業員を対象に年3回、上司とのキャリア面談を実施し、キャリア形成をサポートしています。\n",
      "\n",
      "4. **人事制度の改善**: コンピテンシー評価やパフォーマンス評価を導入し、従業員のスキルや知識に基づく評価を行っています。\n",
      "\n",
      "5. **e-ラーニングの提供**: 2万種類以上のe-ラーニングコンテンツをグローバルに提供し、リモートワーク環境下でも効率的な学びの機会を提供しています。\n",
      "\n",
      "6. **日産ラーニングセンター**: 技術革新に対応するため、リーダー層の育成や次世代への技術・技能伝承を目的とした学習機会を提供しています。\n",
      "\n",
      "7. **シニアパートナー制度**: 高い専門性と経験を有するシニア従業員が継続的に活躍できるよう、柔軟な働き方を整備しています。\n",
      "\n",
      "8. **専門性の強化**: エキスパートリーダー制度を導入し、さまざまな領域での専門性を強化しています。\n",
      "\n",
      "これらの取り組みにより、従業員のスキル向上とキャリア形成を支援しています。\n"
     ]
    }
   ],
   "source": [
    "\"\"\"\n",
    "質問3: 日産が従業員の能力開発のために行っていることは何ですか？\n",
    "回答: グローバル共通のトレーニングプラットフォームの導入、重要なスキル習得の機会提供、テクノロジーを活用した学習体験の充実化、実効性のある学びの機会創出、タレントアクセラレーションプログラムの見直しと再構築などを通じて、従業員の能力開発を推進しています\n",
    "\"\"\"\n",
    "query = \"日産が従業員の能力開発のために行っていることは何ですか？\"\n",
    "print(\"== not page_nodes ==\")\n",
    "get_response(query)\n",
    "print(\"== used page_nodes ==\")\n",
    "get_pages_response(query)"
   ]
  },
  {
   "cell_type": "code",
   "execution_count": null,
   "metadata": {},
   "outputs": [],
   "source": []
  }
 ],
 "metadata": {
  "kernelspec": {
   "display_name": ".venv",
   "language": "python",
   "name": "python3"
  },
  "language_info": {
   "codemirror_mode": {
    "name": "ipython",
    "version": 3
   },
   "file_extension": ".py",
   "mimetype": "text/x-python",
   "name": "python",
   "nbconvert_exporter": "python",
   "pygments_lexer": "ipython3",
   "version": "3.11.3"
  }
 },
 "nbformat": 4,
 "nbformat_minor": 2
}
