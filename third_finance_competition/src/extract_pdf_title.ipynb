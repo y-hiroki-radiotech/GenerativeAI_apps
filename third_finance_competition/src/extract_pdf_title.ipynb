{
 "cells": [
  {
   "cell_type": "markdown",
   "metadata": {},
   "source": [
    "### 作成したクラスが動くかテスト"
   ]
  },
  {
   "cell_type": "code",
   "execution_count": 91,
   "metadata": {},
   "outputs": [
    {
     "name": "stdout",
     "output_type": "stream",
     "text": [
      "The autoreload extension is already loaded. To reload it, use:\n",
      "  %reload_ext autoreload\n"
     ]
    }
   ],
   "source": [
    "from rename_pdf_file.rename_pdf import PdfRename\n",
    "\n",
    "%load_ext autoreload\n",
    "%autoreload 2"
   ]
  },
  {
   "cell_type": "code",
   "execution_count": 92,
   "metadata": {},
   "outputs": [
    {
     "name": "stderr",
     "output_type": "stream",
     "text": [
      "  0%|          | 0/19 [00:00<?, ?it/s]"
     ]
    },
    {
     "name": "stderr",
     "output_type": "stream",
     "text": [
      "INFO:httpx:HTTP Request: POST https://api.openai.com/v1/chat/completions \"HTTP/1.1 200 OK\"\n",
      "INFO:root:Renamed and updated metadata: /Users/user/Desktop/GenerativeAI_apps/third_finance_competition/src/documents/パナソニック ホールディングス株式会社-サステナビリティデータブック-2024.pdf -> /Users/user/Desktop/GenerativeAI_apps/third_finance_competition/src/documents/パナソニック ホールディングス株式会社-サステナビリティデータブック-2024.pdf\n",
      "  5%|▌         | 1/19 [00:10<03:04, 10.23s/it]INFO:httpx:HTTP Request: POST https://api.openai.com/v1/chat/completions \"HTTP/1.1 200 OK\"\n",
      "INFO:root:Renamed and updated metadata: /Users/user/Desktop/GenerativeAI_apps/third_finance_competition/src/documents/株式会社メディアドゥ-統合報告書-2024.pdf -> /Users/user/Desktop/GenerativeAI_apps/third_finance_competition/src/documents/株式会社メディアドゥ-統合報告書-2024.pdf\n",
      " 11%|█         | 2/19 [00:20<02:57, 10.44s/it]INFO:httpx:HTTP Request: POST https://api.openai.com/v1/chat/completions \"HTTP/1.1 200 OK\"\n",
      "INFO:root:Renamed and updated metadata: /Users/user/Desktop/GenerativeAI_apps/third_finance_competition/src/documents/髙松コンストラクショングループ-統合報告書-2024.pdf -> /Users/user/Desktop/GenerativeAI_apps/third_finance_competition/src/documents/髙松コンストラクショングループ-統合報告書-2024.pdf\n",
      " 16%|█▌        | 3/19 [02:07<14:29, 54.32s/it]INFO:httpx:HTTP Request: POST https://api.openai.com/v1/chat/completions \"HTTP/1.1 200 OK\"\n",
      "INFO:root:Renamed and updated metadata: /Users/user/Desktop/GenerativeAI_apps/third_finance_competition/src/documents/全国保証株式会社-統合報告書-2024.pdf -> /Users/user/Desktop/GenerativeAI_apps/third_finance_competition/src/documents/全国保証株式会社-統合報告書-2024.pdf\n",
      " 21%|██        | 4/19 [02:10<08:29, 33.99s/it]INFO:httpx:HTTP Request: POST https://api.openai.com/v1/chat/completions \"HTTP/1.1 200 OK\"\n",
      "INFO:root:Renamed and updated metadata: /Users/user/Desktop/GenerativeAI_apps/third_finance_competition/src/documents/カゴメ株式会社-統合報告書-2024.pdf -> /Users/user/Desktop/GenerativeAI_apps/third_finance_competition/src/documents/カゴメ株式会社-統合報告書-2024年.pdf\n",
      " 26%|██▋       | 5/19 [02:16<05:37, 24.13s/it]INFO:httpx:HTTP Request: POST https://api.openai.com/v1/chat/completions \"HTTP/1.1 200 OK\"\n",
      "INFO:root:Renamed and updated metadata: /Users/user/Desktop/GenerativeAI_apps/third_finance_competition/src/documents/Nissan Motor Corporation-サステナビリティデータブック-2024.pdf -> /Users/user/Desktop/GenerativeAI_apps/third_finance_competition/src/documents/Nissan Motor Corporation- Sustainability data book- 2024.pdf\n",
      " 32%|███▏      | 6/19 [02:23<03:54, 18.03s/it]INFO:httpx:HTTP Request: POST https://api.openai.com/v1/chat/completions \"HTTP/1.1 200 OK\"\n",
      "INFO:root:Renamed and updated metadata: /Users/user/Desktop/GenerativeAI_apps/third_finance_competition/src/documents/株式会社モスフードサービス-統合報告書-2024.pdf -> /Users/user/Desktop/GenerativeAI_apps/third_finance_competition/src/documents/株式会社モスフードサービス-MOS REPORT(モスグループ統合報告)-2024年.pdf\n",
      " 37%|███▋      | 7/19 [02:31<02:59, 14.98s/it]INFO:httpx:HTTP Request: POST https://api.openai.com/v1/chat/completions \"HTTP/1.1 200 OK\"\n",
      "INFO:root:Renamed and updated metadata: /Users/user/Desktop/GenerativeAI_apps/third_finance_competition/src/documents/4℃ホールディングス-IRレポート-2024.pdf -> /Users/user/Desktop/GenerativeAI_apps/third_finance_competition/src/documents/株式会社4℃ホールディングス-IRレポート-2024.pdf\n",
      " 42%|████▏     | 8/19 [02:40<02:21, 12.89s/it]INFO:httpx:HTTP Request: POST https://api.openai.com/v1/chat/completions \"HTTP/1.1 200 OK\"\n",
      "INFO:root:Renamed and updated metadata: /Users/user/Desktop/GenerativeAI_apps/third_finance_competition/src/documents/東急不動産ホールディングス株式会社-会社概要-2024年.pdf -> /Users/user/Desktop/GenerativeAI_apps/third_finance_competition/src/documents/東急不動産ホールディングス-会社概要・株式情報-2024年.pdf\n",
      " 47%|████▋     | 9/19 [02:49<01:57, 11.71s/it]INFO:httpx:HTTP Request: POST https://api.openai.com/v1/chat/completions \"HTTP/1.1 200 OK\"\n",
      "INFO:root:Renamed and updated metadata: /Users/user/Desktop/GenerativeAI_apps/third_finance_competition/src/documents/明治ホールディングス株式会社-統合報告書-2024.pdf -> /Users/user/Desktop/GenerativeAI_apps/third_finance_competition/src/documents/明治ホールディングス株式会社-統合報告書-2024.pdf\n",
      " 53%|█████▎    | 10/19 [02:54<01:26,  9.64s/it]INFO:httpx:HTTP Request: POST https://api.openai.com/v1/chat/completions \"HTTP/1.1 200 OK\"\n",
      "INFO:root:Renamed and updated metadata: /Users/user/Desktop/GenerativeAI_apps/third_finance_competition/src/documents/サントリーホールディングス-従業員数報告書-2023.pdf -> /Users/user/Desktop/GenerativeAI_apps/third_finance_competition/src/documents/サントリーホールディングス-従業員数報告書-2023年.pdf\n",
      " 58%|█████▊    | 11/19 [03:00<01:08,  8.54s/it]INFO:httpx:HTTP Request: POST https://api.openai.com/v1/chat/completions \"HTTP/1.1 200 OK\"\n",
      "INFO:root:Renamed and updated metadata: /Users/user/Desktop/GenerativeAI_apps/third_finance_competition/src/documents/キッツ-コーポレートレポート-2024.pdf -> /Users/user/Desktop/GenerativeAI_apps/third_finance_competition/src/documents/キッツ-コーポレートレポート-2024.pdf\n",
      " 63%|██████▎   | 12/19 [03:08<00:59,  8.55s/it]INFO:httpx:HTTP Request: POST https://api.openai.com/v1/chat/completions \"HTTP/1.1 200 OK\"\n",
      "INFO:root:Renamed and updated metadata: /Users/user/Desktop/GenerativeAI_apps/third_finance_competition/src/documents/クレハ-CSRレポート-2020.pdf -> /Users/user/Desktop/GenerativeAI_apps/third_finance_competition/src/documents/クレハ-CSRレポート-2020.pdf\n",
      " 68%|██████▊   | 13/19 [03:11<00:40,  6.69s/it]INFO:httpx:HTTP Request: POST https://api.openai.com/v1/chat/completions \"HTTP/1.1 200 OK\"\n",
      "INFO:root:Renamed and updated metadata: /Users/user/Desktop/GenerativeAI_apps/third_finance_competition/src/documents/東洋エンジニアリング株式会社-統合報告書-2024.pdf -> /Users/user/Desktop/GenerativeAI_apps/third_finance_competition/src/documents/東洋エンジニアリング株式会社-統合報告書-2024.pdf\n",
      " 74%|███████▎  | 14/19 [03:15<00:29,  5.94s/it]INFO:httpx:HTTP Request: POST https://api.openai.com/v1/chat/completions \"HTTP/1.1 200 OK\"\n",
      "INFO:root:Renamed and updated metadata: /Users/user/Desktop/GenerativeAI_apps/third_finance_competition/src/documents/グローリー株式会社-INTEGRATED REPORT-2024.pdf -> /Users/user/Desktop/GenerativeAI_apps/third_finance_competition/src/documents/グローリー株式会社-INTEGRATED REPORT-2024.pdf\n",
      " 79%|███████▉  | 15/19 [03:19<00:20,  5.21s/it]INFO:httpx:HTTP Request: POST https://api.openai.com/v1/chat/completions \"HTTP/1.1 200 OK\"\n",
      "INFO:root:Renamed and updated metadata: /Users/user/Desktop/GenerativeAI_apps/third_finance_competition/src/documents/IHI-統合報告書-2024.pdf -> /Users/user/Desktop/GenerativeAI_apps/third_finance_competition/src/documents/IHI-統合報告書-2024.pdf\n",
      " 84%|████████▍ | 16/19 [03:24<00:16,  5.40s/it]INFO:httpx:HTTP Request: POST https://api.openai.com/v1/chat/completions \"HTTP/1.1 200 OK\"\n",
      "INFO:root:Renamed and updated metadata: /Users/user/Desktop/GenerativeAI_apps/third_finance_competition/src/documents/日清食品ホールディングス株式会社-市場データ-2023.pdf -> /Users/user/Desktop/GenerativeAI_apps/third_finance_competition/src/documents/日清食品ホールディングス-市場データ-2023.pdf\n",
      " 89%|████████▉ | 17/19 [03:32<00:12,  6.16s/it]INFO:httpx:HTTP Request: POST https://api.openai.com/v1/chat/completions \"HTTP/1.1 200 OK\"\n",
      "INFO:root:Renamed and updated metadata: /Users/user/Desktop/GenerativeAI_apps/third_finance_competition/src/documents/ライフ-株主名簿-2024年.pdf -> /Users/user/Desktop/GenerativeAI_apps/third_finance_competition/src/documents/ライフ-企業データ-2024年.pdf\n",
      " 95%|█████████▍| 18/19 [03:41<00:06,  6.93s/it]INFO:httpx:HTTP Request: POST https://api.openai.com/v1/chat/completions \"HTTP/1.1 200 OK\"\n",
      "INFO:root:Renamed and updated metadata: /Users/user/Desktop/GenerativeAI_apps/third_finance_competition/src/documents/ハウス食品グループ本社株式会社-統合レポート-2024.pdf -> /Users/user/Desktop/GenerativeAI_apps/third_finance_competition/src/documents/ハウス食品グループ本社株式会社-統合レポート-2024.pdf\n",
      "100%|██████████| 19/19 [03:59<00:00, 12.62s/it]\n"
     ]
    }
   ],
   "source": [
    "pdf_rename = PdfRename()\n",
    "pdf_rename.rename_pdfs()"
   ]
  },
  {
   "cell_type": "markdown",
   "metadata": {},
   "source": []
  },
  {
   "cell_type": "code",
   "execution_count": null,
   "metadata": {},
   "outputs": [],
   "source": []
  }
 ],
 "metadata": {
  "kernelspec": {
   "display_name": ".venv",
   "language": "python",
   "name": "python3"
  },
  "language_info": {
   "codemirror_mode": {
    "name": "ipython",
    "version": 3
   },
   "file_extension": ".py",
   "mimetype": "text/x-python",
   "name": "python",
   "nbconvert_exporter": "python",
   "pygments_lexer": "ipython3",
   "version": "3.11.3"
  }
 },
 "nbformat": 4,
 "nbformat_minor": 2
}
